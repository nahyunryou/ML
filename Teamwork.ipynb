{
  "nbformat": 4,
  "nbformat_minor": 0,
  "metadata": {
    "colab": {
      "private_outputs": true,
      "provenance": [],
      "authorship_tag": "ABX9TyMVPHHsjALtLReU6BqmHz90",
      "include_colab_link": true
    },
    "kernelspec": {
      "name": "python3",
      "display_name": "Python 3"
    },
    "language_info": {
      "name": "python"
    }
  },
  "cells": [
    {
      "cell_type": "markdown",
      "metadata": {
        "id": "view-in-github",
        "colab_type": "text"
      },
      "source": [
        "<a href=\"https://colab.research.google.com/github/nahyunryou/Machine_Learning/blob/main/Teamwork.ipynb\" target=\"_parent\"><img src=\"https://colab.research.google.com/assets/colab-badge.svg\" alt=\"Open In Colab\"/></a>"
      ]
    },
    {
      "cell_type": "markdown",
      "source": [
        "Week 3"
      ],
      "metadata": {
        "id": "l_A1hK_hPn5T"
      }
    },
    {
      "cell_type": "code",
      "execution_count": null,
      "metadata": {
        "id": "FGNJrpmY5q_e"
      },
      "outputs": [],
      "source": [
        "from google.colab import drive\n",
        "drive.mount('/content/drive')"
      ]
    },
    {
      "cell_type": "code",
      "source": [
        "import numpy as np\n",
        "import pandas as pd\n",
        "import datetime as dt\n",
        "import matplotlib.pyplot as plt\n",
        "import seaborn as sns\n",
        "import matplotlib as mpl"
      ],
      "metadata": {
        "id": "MAc1TQ5kOV7-"
      },
      "execution_count": null,
      "outputs": []
    },
    {
      "cell_type": "code",
      "source": [
        "# create data frame\n",
        "dataframe = pd.DataFrame([\n",
        "    {'Name' : '나다경', 'Hobby' : 'listening to music', 'Nationality' : 'Korea'},\n",
        "    {'Name' : '유나현', 'Hobby' : 'watching movies', 'Nationality' : 'Korea'},\n",
        "    {'Name' : '이영민', 'Hobby' : 'watching Netfilx & playing computer games', 'Nationality' : 'Korea'},\n",
        "    {'Name' : '추승민', 'Hobby' : 'reading books', 'Nationality' : 'Korea'}\n",
        "])\n",
        "dataframe"
      ],
      "metadata": {
        "id": "3l6nstqQOZRR"
      },
      "execution_count": null,
      "outputs": []
    },
    {
      "cell_type": "code",
      "source": [
        "# define a new index\n",
        "index_list=['student1', 'student2', 'student3', 'student4']"
      ],
      "metadata": {
        "id": "houll8IAOrXm"
      },
      "execution_count": null,
      "outputs": []
    },
    {
      "cell_type": "code",
      "source": [
        "dataframe1 = pd.DataFrame([\n",
        "    {'Name' : '나다경', 'Hobby' : 'listening to music', 'Nationality' : 'Korea'},\n",
        "    {'Name' : '유나현', 'Hobby' : 'watching movies', 'Nationality' : 'Korea'},\n",
        "    {'Name' : '이영민', 'Hobby' : 'watching Netfilx & playing computer games', 'Nationality' : 'Korea'},\n",
        "    {'Name' : '추승민', 'Hobby' : 'reading books', 'Nationality' : 'Korea'}\n",
        "], index=index_list)\n",
        "\n",
        "dataframe1"
      ],
      "metadata": {
        "id": "XxRg4phgOs2n"
      },
      "execution_count": null,
      "outputs": []
    },
    {
      "cell_type": "code",
      "source": [
        "# save file as .csv format\n",
        "dataframe1.to_csv('team_practice.csv', encoding='cp949')"
      ],
      "metadata": {
        "id": "lQul5BCLO_nO"
      },
      "execution_count": null,
      "outputs": []
    },
    {
      "cell_type": "code",
      "source": [
        "# load csv file back to python\n",
        "data = pd.read_csv('team_practice.csv', encoding='cp949', index_col=0)"
      ],
      "metadata": {
        "id": "77TW6UEqPA7s"
      },
      "execution_count": null,
      "outputs": []
    },
    {
      "cell_type": "code",
      "source": [
        "data"
      ],
      "metadata": {
        "id": "jbtqfcNGPLLA"
      },
      "execution_count": null,
      "outputs": []
    },
    {
      "cell_type": "code",
      "source": [
        "dic = {'Height' : [157, 180, 180, 165],\n",
        "       'Weight' : [50, 75, 70, 55],\n",
        "       'Age' : [23, 24, 25, 26]}\n",
        "df3 = pd.DataFrame(dic)\n",
        "df3"
      ],
      "metadata": {
        "id": "0JFGBU2qPZ6l"
      },
      "execution_count": null,
      "outputs": []
    },
    {
      "cell_type": "markdown",
      "source": [
        "Week 4"
      ],
      "metadata": {
        "id": "v-4bl1FBPsjF"
      }
    },
    {
      "cell_type": "code",
      "source": [
        "cd /content/drive/MyDrive/ML/"
      ],
      "metadata": {
        "id": "ep_vaQ8fQ6O4"
      },
      "execution_count": null,
      "outputs": []
    },
    {
      "cell_type": "code",
      "source": [
        "# load data\n",
        "df = pd.read_csv(\n",
        "    'ch_02/data/earthquakes.csv'\n",
        ")"
      ],
      "metadata": {
        "id": "DIh1J96J5rk_"
      },
      "execution_count": null,
      "outputs": []
    },
    {
      "cell_type": "code",
      "source": [
        "df.head()"
      ],
      "metadata": {
        "id": "RtQoSDnZBDEU"
      },
      "execution_count": null,
      "outputs": []
    },
    {
      "cell_type": "code",
      "source": [
        "# find items of location Arizona\n",
        "df.loc[df.place.str.contains('Arizona'),:]"
      ],
      "metadata": {
        "id": "fl2Llcci-nhB"
      },
      "execution_count": null,
      "outputs": []
    },
    {
      "cell_type": "code",
      "source": [
        "# try loc function to select 3:10 items for mag, magType and type variables\n",
        "df.loc[3:10,['mag','magType','type']]"
      ],
      "metadata": {
        "id": "jb7cg8UK7IxQ"
      },
      "execution_count": null,
      "outputs": []
    },
    {
      "cell_type": "code",
      "source": [
        "df.columns"
      ],
      "metadata": {
        "id": "Uvivl88EMcJL"
      },
      "execution_count": null,
      "outputs": []
    },
    {
      "cell_type": "code",
      "source": [
        "# try iloc function to select 3:10 items for mag, magType and type variables\n",
        "df.iloc[3:11,[8,9,21]]"
      ],
      "metadata": {
        "id": "xlSOlMigLTfw"
      },
      "execution_count": null,
      "outputs": []
    },
    {
      "cell_type": "code",
      "source": [
        "# find 10 largest items of mag variable\n",
        "df.sort_values(by='mag', ascending=False).head(10)"
      ],
      "metadata": {
        "id": "HgOblSFg_41E"
      },
      "execution_count": null,
      "outputs": []
    },
    {
      "cell_type": "code",
      "source": [
        "# delete alert variable\n",
        "df.drop(['alert'],axis=1,inplace=True)"
      ],
      "metadata": {
        "id": "1acHMBmc7iE5"
      },
      "execution_count": null,
      "outputs": []
    },
    {
      "cell_type": "code",
      "source": [
        "# pop mag variables with name mag\n",
        "mag=df.pop('mag')"
      ],
      "metadata": {
        "id": "DcH7-1MM9YJk"
      },
      "execution_count": null,
      "outputs": []
    },
    {
      "cell_type": "code",
      "source": [
        "# pop magType variables with name magType\n",
        "magType=df.pop('magType')"
      ],
      "metadata": {
        "id": "ASLpub1N9p5l"
      },
      "execution_count": null,
      "outputs": []
    },
    {
      "cell_type": "code",
      "source": [
        "# concatename nag and magType variables and define a new DataFrame using concat function\n",
        "df2=pd.concat([mag,magType],axis=1)\n",
        "df2.head()"
      ],
      "metadata": {
        "id": "8P8lBU4Q8YGu"
      },
      "execution_count": null,
      "outputs": []
    },
    {
      "cell_type": "markdown",
      "source": [
        "Week 5"
      ],
      "metadata": {
        "id": "aFiT8Ky3PupO"
      }
    },
    {
      "cell_type": "code",
      "source": [
        "weather = pd.read_csv('ch_04/data/nyc_weather_2018.csv')\n",
        "weather.head()"
      ],
      "metadata": {
        "id": "cbdsDK-BQs5b"
      },
      "execution_count": null,
      "outputs": []
    },
    {
      "cell_type": "code",
      "source": [
        "# Find all entries where datatype is 'PRCP' and station ID containing 'S0007'\n",
        "weather[\n",
        "    (weather.datatype == 'PRCP')\n",
        "    &(weather.station.str.contains('S0007'))\n",
        "]"
      ],
      "metadata": {
        "id": "8D4FZwMyPvWO"
      },
      "execution_count": null,
      "outputs": []
    },
    {
      "cell_type": "code",
      "source": [
        "# How many unique values in 'attributes' variable?\n",
        "weather.attributes.nunique()"
      ],
      "metadata": {
        "id": "6Kz1dtKuQc3a"
      },
      "execution_count": null,
      "outputs": []
    },
    {
      "cell_type": "code",
      "source": [
        "# What is the most frequent one?\n",
        "weather.attributes.value_counts()"
      ],
      "metadata": {
        "id": "88JlN1MzQkVd"
      },
      "execution_count": null,
      "outputs": []
    },
    {
      "cell_type": "markdown",
      "source": [
        "Week 6"
      ],
      "metadata": {
        "id": "vrhNRNsbRC_q"
      }
    },
    {
      "cell_type": "code",
      "source": [
        "weather = pd.read_csv('ch_04/data/weather_by_station.csv', index_col='date', parse_dates=True)\n",
        "weather.head()"
      ],
      "metadata": {
        "id": "WNcTgloJvkyI"
      },
      "execution_count": null,
      "outputs": []
    },
    {
      "cell_type": "code",
      "source": [
        "dp = weather.query( \"datatype == 'PRCP'\").groupby(level=0).mean() # daily precipitation data\n",
        "dp.head()"
      ],
      "metadata": {
        "id": "vRqM35Gtu7Hf"
      },
      "execution_count": null,
      "outputs": []
    },
    {
      "cell_type": "code",
      "source": [
        "dp.groupby(pd.Grouper(freq='Q')).sum() # which quarter had the most rain"
      ],
      "metadata": {
        "id": "ioY6eVqhvQV6"
      },
      "execution_count": null,
      "outputs": []
    },
    {
      "cell_type": "code",
      "source": [
        "dp.groupby(pd.Grouper(freq='Q')).value.count()"
      ],
      "metadata": {
        "id": "Zgv-aWudv2Wl"
      },
      "execution_count": null,
      "outputs": []
    },
    {
      "cell_type": "code",
      "source": [
        "# Assign 'quarterly total precipitation' and 'number of days in month' variables to daily precipitation data\n",
        "\n",
        "dp.assign(\n",
        "    total_prcp_in_q = lambda x : x.groupby(pd.Grouper(freq='Q')).transform(np.sum),\n",
        "    total_day_count_in_q = lambda x : x.groupby(pd.Grouper(freq='Q')).value.transform('count')\n",
        ")"
      ],
      "metadata": {
        "id": "sPITlPnxv6Aq"
      },
      "execution_count": null,
      "outputs": []
    },
    {
      "cell_type": "code",
      "source": [
        "dp.assign(\n",
        "        total_prcp_in_q=lambda x: \\\n",
        "            x.groupby(pd.Grouper(freq='Q')).transform(np.sum),\n",
        "        total_day_count_in_q=lambda x: \\\n",
        "            x.groupby(pd.Grouper(freq='Q')).value.transform('count'),\n",
        "        pct_q_prcp=lambda x: \\\n",
        "            x.value.div(x.total_prcp_in_q)\n",
        "    )"
      ],
      "metadata": {
        "id": "gpRW_1U2v9zc"
      },
      "execution_count": null,
      "outputs": []
    },
    {
      "cell_type": "code",
      "source": [
        "# Calculate rolling 3 days mean precipitation\n",
        "dp.rolling('3D').mean()"
      ],
      "metadata": {
        "id": "U1Y9xCvSv_eU"
      },
      "execution_count": null,
      "outputs": []
    },
    {
      "cell_type": "code",
      "source": [
        "fb = pd.read_csv('ch_04/data/fb_2018.csv')\n",
        "fb.head()"
      ],
      "metadata": {
        "id": "2IEkbGupxJnS"
      },
      "execution_count": null,
      "outputs": []
    },
    {
      "cell_type": "code",
      "source": [
        "fb = pd.read_csv('ch_04/data/fb_2018.csv', index_col='date', parse_dates=True).assign(\n",
        "    trading_volume=lambda x: pd.cut(x.volume, bins=3, labels=['low', 'med', 'high'])\n",
        ")\n",
        "fb.head()"
      ],
      "metadata": {
        "id": "ALGkwekHwRAC"
      },
      "execution_count": null,
      "outputs": []
    },
    {
      "cell_type": "code",
      "source": [
        "pd.crosstab(\n",
        "    index = fb.trading_volume,\n",
        "    columns = fb.index.month,\n",
        "    colnames=['month']\n",
        ")\n"
      ],
      "metadata": {
        "id": "CGRnkQ1dwC54"
      },
      "execution_count": null,
      "outputs": []
    },
    {
      "cell_type": "code",
      "source": [
        "# Use pivot_table to produce the same result\n",
        "fb.pivot_table(\n",
        "    index = 'trading_volume',\n",
        "    columns= fb.index.month,\n",
        "    values = 'close', # count라서 아무거나 해도 괜찮은듯\n",
        "    aggfunc = 'count'\n",
        ")"
      ],
      "metadata": {
        "id": "ZlbUfspvwIjL"
      },
      "execution_count": null,
      "outputs": []
    },
    {
      "cell_type": "markdown",
      "source": [
        "Week 7"
      ],
      "metadata": {
        "id": "nyd2GOaYx5Zx"
      }
    },
    {
      "cell_type": "code",
      "source": [
        "fb = pd.read_csv(\n",
        "    'ch_05/data/fb_stock_prices_2018.csv', index_col='date', parse_dates=True\n",
        ")\n",
        "quakes = pd.read_csv('ch_05/data/earthquakes.csv')\n",
        "covid = pd.read_csv('ch_05/data/covid19_cases.csv').assign(\n",
        "    date=lambda x: pd.to_datetime(x.dateRep, format='%d/%m/%Y')\n",
        ").set_index('date').replace(\n",
        "    'United_States_of_America', 'USA'\n",
        ").sort_index()['2020-01-18':'2020-09-18']"
      ],
      "metadata": {
        "id": "QUq5qyzp4tJi"
      },
      "execution_count": null,
      "outputs": []
    },
    {
      "cell_type": "code",
      "source": [
        "fig, axes = plt.subplots(1, 2, figsize=(15, 7))\n",
        "axes[0].plot(fb.index, fb.open, '.-r')\n",
        "axes[1].plot(fb.index, fb.high, '.--b')"
      ],
      "metadata": {
        "id": "XsEyoLuGy4HD"
      },
      "execution_count": null,
      "outputs": []
    },
    {
      "cell_type": "code",
      "source": [
        "fig = plt.figure(figsize=(15, 7))\n",
        "outside = fig.add_axes([0.1, 0.1, 0.9, 0.9])\n",
        "inside = fig.add_axes([0.7, 0.7, 0.25, 0.25])\n",
        "\n",
        "outside.plot(fb.index, fb.open, '.-r')\n",
        "inside.plot(fb.index, fb.high, '.--b')"
      ],
      "metadata": {
        "id": "ufvcL7YF4YBb"
      },
      "execution_count": null,
      "outputs": []
    },
    {
      "cell_type": "code",
      "source": [
        "covid"
      ],
      "metadata": {
        "id": "z3jsisqL_Te9"
      },
      "execution_count": null,
      "outputs": []
    },
    {
      "cell_type": "code",
      "source": [
        "new_cases_rolling_average = covid.pivot_table(\n",
        "    index=covid.index, \n",
        "    columns='countriesAndTerritories', \n",
        "    values='cases'\n",
        ").rolling(7).mean()"
      ],
      "metadata": {
        "id": "R51hv1tt64TG"
      },
      "execution_count": null,
      "outputs": []
    },
    {
      "cell_type": "code",
      "source": [
        "new_cases_rolling_average"
      ],
      "metadata": {
        "id": "FjEmvoop_MzK"
      },
      "execution_count": null,
      "outputs": []
    },
    {
      "cell_type": "code",
      "source": [
        "new_cases_rolling_average.columns"
      ],
      "metadata": {
        "id": "GRyq_3IZ_wjx"
      },
      "execution_count": null,
      "outputs": []
    },
    {
      "cell_type": "code",
      "source": [
        "fig, axes = plt.subplots(1, 3, figsize=(15, 5))\n",
        "\n",
        "new_cases_rolling_average[['China']].plot(ax=axes[0], style='-.c')\n",
        "new_cases_rolling_average[['Italy', 'Spain']].plot(\n",
        "    ax=axes[1], style=['-', '--'], \n",
        "    title='7-day rolling average of new COVID-19 cases\\n(source: ECDC)'\n",
        ")\n",
        "new_cases_rolling_average[['Brazil', 'India', 'USA']]\\\n",
        "    .plot(ax=axes[2], style=['--', ':', '-'])"
      ],
      "metadata": {
        "id": "mu7X-LIS_OwO"
      },
      "execution_count": null,
      "outputs": []
    },
    {
      "cell_type": "code",
      "source": [
        "cols = [\n",
        "    col for col in new_cases_rolling_average.columns \n",
        "    if col not in ['USA', 'Brazil', 'India', 'Italy_Spain']\n",
        "]\n",
        "cols2 = [\n",
        "    col for col in new_cases_rolling_average.columns \n",
        "    if col not in ['USA', 'Brazil', 'India', 'Italy', 'Spain']\n",
        "]\n",
        "new_cases_rolling_average.assign(Italy_Spain= lambda x: x.Italy + x.Spain).sort_index(axis=1).assign(\n",
        "    Other=lambda x: x[cols2].sum(axis=1)\n",
        ").drop(columns=cols).plot(\n",
        "    kind='area', figsize=(15, 5), \n",
        "    title='7-day rolling average of new COVID-19 cases\\n(source: ECDC)'\n",
        ")"
      ],
      "metadata": {
        "id": "W5cJ2a7g_jqP"
      },
      "execution_count": null,
      "outputs": []
    },
    {
      "cell_type": "code",
      "source": [
        "quakes.head()"
      ],
      "metadata": {
        "id": "BEkVqRrrAoyh"
      },
      "execution_count": null,
      "outputs": []
    },
    {
      "cell_type": "code",
      "source": [
        "indonesia_quakes.head()"
      ],
      "metadata": {
        "id": "c1Ucq23CAvpV"
      },
      "execution_count": null,
      "outputs": []
    },
    {
      "cell_type": "code",
      "source": [
        "indonesia_quakes = quakes.query('parsed_place == \"Indonesia\"').assign(\n",
        "    time=lambda x: pd.to_datetime(x.time, unit='ms'),\n",
        "    earthquake=1\n",
        ").set_index('time').resample('1D').sum()\n",
        "\n",
        "# format the datetimes in the index for the x-axis\n",
        "indonesia_quakes.index = indonesia_quakes.index.strftime('%b\\n%d')\n",
        "\n",
        "indonesia_quakes.plot(\n",
        "    y=['earthquake', 'tsunami'], kind='bar', figsize=(15, 3), \n",
        "    rot=0, label=['earthquakes', 'tsunamis'], \n",
        "    title='Earthquakes and Tsunamis in Indonesia '\n",
        "          '(September 18, 2018 - October 13, 2018)'\n",
        ")\n",
        "\n",
        "# label the axes (discussed in chapter 6)\n",
        "plt.xlabel('date')\n",
        "plt.ylabel('count')"
      ],
      "metadata": {
        "id": "jgcoXfIqAG65"
      },
      "execution_count": null,
      "outputs": []
    },
    {
      "cell_type": "code",
      "source": [
        "indonesia_quakes.plot(\n",
        "    y=['earthquake', 'tsunami'], kind=\"bar\",stacked=True, figsize=(15, 3), \n",
        "    rot=0, label=['earthquakes', 'tsunamis'], \n",
        "    title='Earthquakes and Tsunamis in Indonesia '\n",
        "          '(September 18, 2018 - October 13, 2018)'\n",
        ")"
      ],
      "metadata": {
        "id": "K6Eg_BUuAhC0"
      },
      "execution_count": null,
      "outputs": []
    },
    {
      "cell_type": "code",
      "source": [
        "indonesia_quakes[['earthquake', 'tsunami']].apply(lambda x: x/x.sum(),axis=1).plot(\n",
        "    y=['earthquake', 'tsunami'], kind=\"bar\",stacked=True, figsize=(15, 3), \n",
        "    title='Earthquakes and Tsunamis in Indonesia '\n",
        "          '(September 18, 2018 - October 13, 2018)'\n",
        ")"
      ],
      "metadata": {
        "id": "Li7t4dzoAkqB"
      },
      "execution_count": null,
      "outputs": []
    },
    {
      "cell_type": "code",
      "source": [],
      "metadata": {
        "id": "FMFBt34FBJs5"
      },
      "execution_count": null,
      "outputs": []
    }
  ]
}
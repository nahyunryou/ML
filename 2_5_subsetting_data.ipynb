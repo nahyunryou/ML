{
  "cells": [
    {
      "cell_type": "markdown",
      "metadata": {
        "id": "view-in-github",
        "colab_type": "text"
      },
      "source": [
        "<a href=\"https://colab.research.google.com/github/nahyunryou/Machine_Learning/blob/main/2_5_subsetting_data.ipynb\" target=\"_parent\"><img src=\"https://colab.research.google.com/assets/colab-badge.svg\" alt=\"Open In Colab\"/></a>"
      ]
    },
    {
      "cell_type": "markdown",
      "metadata": {
        "id": "GX1jQLTB1yC8"
      },
      "source": [
        "# Subsetting the data\n",
        "\n",
        "## About the Data\n",
        "In this notebook, we will be working with earthquake data from September 18, 2018 - October 13, 2018 (obtained from the US Geological Survey (USGS) using the [USGS API](https://earthquake.usgs.gov/fdsnws/event/1/))\n",
        "\n",
        "## Setup\n",
        "We will be working with the `data/earthquakes.csv` file again, so we need to handle our imports and read it in."
      ]
    },
    {
      "cell_type": "code",
      "source": [
        "from google.colab import drive\n",
        "drive.mount('/content/drive')"
      ],
      "metadata": {
        "colab": {
          "base_uri": "https://localhost:8080/"
        },
        "id": "LYiadZ0u11Hn",
        "outputId": "810cd807-bfbb-4272-f508-c3e65a93e23f"
      },
      "execution_count": null,
      "outputs": [
        {
          "output_type": "stream",
          "name": "stdout",
          "text": [
            "Mounted at /content/drive\n"
          ]
        }
      ]
    },
    {
      "cell_type": "code",
      "source": [
        "cd /content/drive/MyDrive/ML/ch_02/"
      ],
      "metadata": {
        "id": "WOU1rtMkSZz3"
      },
      "execution_count": null,
      "outputs": []
    },
    {
      "cell_type": "code",
      "execution_count": null,
      "metadata": {
        "id": "iHEtYZS31yDE"
      },
      "outputs": [],
      "source": [
        "import pandas as pd\n",
        "\n",
        "df = pd.read_csv('/data/earthquakes.csv')"
      ]
    },
    {
      "cell_type": "code",
      "source": [
        "df.head()"
      ],
      "metadata": {
        "colab": {
          "base_uri": "https://localhost:8080/",
          "height": 646
        },
        "id": "qV1TZ1XM6Ci5",
        "outputId": "e8c59854-b2dd-43e9-8d59-bb3984c6d474"
      },
      "execution_count": null,
      "outputs": [
        {
          "output_type": "execute_result",
          "data": {
            "text/plain": [
              "  alert  cdi      code                                             detail  \\\n",
              "0   NaN  NaN  37389218  https://earthquake.usgs.gov/fdsnws/event/1/que...   \n",
              "1   NaN  NaN  37389202  https://earthquake.usgs.gov/fdsnws/event/1/que...   \n",
              "2   NaN  4.4  37389194  https://earthquake.usgs.gov/fdsnws/event/1/que...   \n",
              "3   NaN  NaN  37389186  https://earthquake.usgs.gov/fdsnws/event/1/que...   \n",
              "4   NaN  NaN  73096941  https://earthquake.usgs.gov/fdsnws/event/1/que...   \n",
              "\n",
              "       dmin  felt    gap           ids   mag magType  ...  sources     status  \\\n",
              "0  0.008693   NaN   85.0  ,ci37389218,  1.35      ml  ...     ,ci,  automatic   \n",
              "1  0.020030   NaN   79.0  ,ci37389202,  1.29      ml  ...     ,ci,  automatic   \n",
              "2  0.021370  28.0   21.0  ,ci37389194,  3.42      ml  ...     ,ci,  automatic   \n",
              "3  0.026180   NaN   39.0  ,ci37389186,  0.44      ml  ...     ,ci,  automatic   \n",
              "4  0.077990   NaN  192.0  ,nc73096941,  2.16      md  ...     ,nc,  automatic   \n",
              "\n",
              "            time                          title  tsunami        type  \\\n",
              "0  1539475168010  M 1.4 - 9km NE of Aguanga, CA        0  earthquake   \n",
              "1  1539475129610  M 1.3 - 9km NE of Aguanga, CA        0  earthquake   \n",
              "2  1539475062610  M 3.4 - 8km NE of Aguanga, CA        0  earthquake   \n",
              "3  1539474978070  M 0.4 - 9km NE of Aguanga, CA        0  earthquake   \n",
              "4  1539474716050  M 2.2 - 10km NW of Avenal, CA        0  earthquake   \n",
              "\n",
              "                                               types     tz        updated  \\\n",
              "0         ,geoserve,nearby-cities,origin,phase-data, -480.0  1539475395144   \n",
              "1         ,geoserve,nearby-cities,origin,phase-data, -480.0  1539475253925   \n",
              "2  ,dyfi,focal-mechanism,geoserve,nearby-cities,o... -480.0  1539536756176   \n",
              "3         ,geoserve,nearby-cities,origin,phase-data, -480.0  1539475196167   \n",
              "4  ,geoserve,nearby-cities,origin,phase-data,scit... -480.0  1539477547926   \n",
              "\n",
              "                                                 url  \n",
              "0  https://earthquake.usgs.gov/earthquakes/eventp...  \n",
              "1  https://earthquake.usgs.gov/earthquakes/eventp...  \n",
              "2  https://earthquake.usgs.gov/earthquakes/eventp...  \n",
              "3  https://earthquake.usgs.gov/earthquakes/eventp...  \n",
              "4  https://earthquake.usgs.gov/earthquakes/eventp...  \n",
              "\n",
              "[5 rows x 26 columns]"
            ],
            "text/html": [
              "\n",
              "  <div id=\"df-c545c5ce-a15d-4bd9-89c5-76e35300a9c7\">\n",
              "    <div class=\"colab-df-container\">\n",
              "      <div>\n",
              "<style scoped>\n",
              "    .dataframe tbody tr th:only-of-type {\n",
              "        vertical-align: middle;\n",
              "    }\n",
              "\n",
              "    .dataframe tbody tr th {\n",
              "        vertical-align: top;\n",
              "    }\n",
              "\n",
              "    .dataframe thead th {\n",
              "        text-align: right;\n",
              "    }\n",
              "</style>\n",
              "<table border=\"1\" class=\"dataframe\">\n",
              "  <thead>\n",
              "    <tr style=\"text-align: right;\">\n",
              "      <th></th>\n",
              "      <th>alert</th>\n",
              "      <th>cdi</th>\n",
              "      <th>code</th>\n",
              "      <th>detail</th>\n",
              "      <th>dmin</th>\n",
              "      <th>felt</th>\n",
              "      <th>gap</th>\n",
              "      <th>ids</th>\n",
              "      <th>mag</th>\n",
              "      <th>magType</th>\n",
              "      <th>...</th>\n",
              "      <th>sources</th>\n",
              "      <th>status</th>\n",
              "      <th>time</th>\n",
              "      <th>title</th>\n",
              "      <th>tsunami</th>\n",
              "      <th>type</th>\n",
              "      <th>types</th>\n",
              "      <th>tz</th>\n",
              "      <th>updated</th>\n",
              "      <th>url</th>\n",
              "    </tr>\n",
              "  </thead>\n",
              "  <tbody>\n",
              "    <tr>\n",
              "      <th>0</th>\n",
              "      <td>NaN</td>\n",
              "      <td>NaN</td>\n",
              "      <td>37389218</td>\n",
              "      <td>https://earthquake.usgs.gov/fdsnws/event/1/que...</td>\n",
              "      <td>0.008693</td>\n",
              "      <td>NaN</td>\n",
              "      <td>85.0</td>\n",
              "      <td>,ci37389218,</td>\n",
              "      <td>1.35</td>\n",
              "      <td>ml</td>\n",
              "      <td>...</td>\n",
              "      <td>,ci,</td>\n",
              "      <td>automatic</td>\n",
              "      <td>1539475168010</td>\n",
              "      <td>M 1.4 - 9km NE of Aguanga, CA</td>\n",
              "      <td>0</td>\n",
              "      <td>earthquake</td>\n",
              "      <td>,geoserve,nearby-cities,origin,phase-data,</td>\n",
              "      <td>-480.0</td>\n",
              "      <td>1539475395144</td>\n",
              "      <td>https://earthquake.usgs.gov/earthquakes/eventp...</td>\n",
              "    </tr>\n",
              "    <tr>\n",
              "      <th>1</th>\n",
              "      <td>NaN</td>\n",
              "      <td>NaN</td>\n",
              "      <td>37389202</td>\n",
              "      <td>https://earthquake.usgs.gov/fdsnws/event/1/que...</td>\n",
              "      <td>0.020030</td>\n",
              "      <td>NaN</td>\n",
              "      <td>79.0</td>\n",
              "      <td>,ci37389202,</td>\n",
              "      <td>1.29</td>\n",
              "      <td>ml</td>\n",
              "      <td>...</td>\n",
              "      <td>,ci,</td>\n",
              "      <td>automatic</td>\n",
              "      <td>1539475129610</td>\n",
              "      <td>M 1.3 - 9km NE of Aguanga, CA</td>\n",
              "      <td>0</td>\n",
              "      <td>earthquake</td>\n",
              "      <td>,geoserve,nearby-cities,origin,phase-data,</td>\n",
              "      <td>-480.0</td>\n",
              "      <td>1539475253925</td>\n",
              "      <td>https://earthquake.usgs.gov/earthquakes/eventp...</td>\n",
              "    </tr>\n",
              "    <tr>\n",
              "      <th>2</th>\n",
              "      <td>NaN</td>\n",
              "      <td>4.4</td>\n",
              "      <td>37389194</td>\n",
              "      <td>https://earthquake.usgs.gov/fdsnws/event/1/que...</td>\n",
              "      <td>0.021370</td>\n",
              "      <td>28.0</td>\n",
              "      <td>21.0</td>\n",
              "      <td>,ci37389194,</td>\n",
              "      <td>3.42</td>\n",
              "      <td>ml</td>\n",
              "      <td>...</td>\n",
              "      <td>,ci,</td>\n",
              "      <td>automatic</td>\n",
              "      <td>1539475062610</td>\n",
              "      <td>M 3.4 - 8km NE of Aguanga, CA</td>\n",
              "      <td>0</td>\n",
              "      <td>earthquake</td>\n",
              "      <td>,dyfi,focal-mechanism,geoserve,nearby-cities,o...</td>\n",
              "      <td>-480.0</td>\n",
              "      <td>1539536756176</td>\n",
              "      <td>https://earthquake.usgs.gov/earthquakes/eventp...</td>\n",
              "    </tr>\n",
              "    <tr>\n",
              "      <th>3</th>\n",
              "      <td>NaN</td>\n",
              "      <td>NaN</td>\n",
              "      <td>37389186</td>\n",
              "      <td>https://earthquake.usgs.gov/fdsnws/event/1/que...</td>\n",
              "      <td>0.026180</td>\n",
              "      <td>NaN</td>\n",
              "      <td>39.0</td>\n",
              "      <td>,ci37389186,</td>\n",
              "      <td>0.44</td>\n",
              "      <td>ml</td>\n",
              "      <td>...</td>\n",
              "      <td>,ci,</td>\n",
              "      <td>automatic</td>\n",
              "      <td>1539474978070</td>\n",
              "      <td>M 0.4 - 9km NE of Aguanga, CA</td>\n",
              "      <td>0</td>\n",
              "      <td>earthquake</td>\n",
              "      <td>,geoserve,nearby-cities,origin,phase-data,</td>\n",
              "      <td>-480.0</td>\n",
              "      <td>1539475196167</td>\n",
              "      <td>https://earthquake.usgs.gov/earthquakes/eventp...</td>\n",
              "    </tr>\n",
              "    <tr>\n",
              "      <th>4</th>\n",
              "      <td>NaN</td>\n",
              "      <td>NaN</td>\n",
              "      <td>73096941</td>\n",
              "      <td>https://earthquake.usgs.gov/fdsnws/event/1/que...</td>\n",
              "      <td>0.077990</td>\n",
              "      <td>NaN</td>\n",
              "      <td>192.0</td>\n",
              "      <td>,nc73096941,</td>\n",
              "      <td>2.16</td>\n",
              "      <td>md</td>\n",
              "      <td>...</td>\n",
              "      <td>,nc,</td>\n",
              "      <td>automatic</td>\n",
              "      <td>1539474716050</td>\n",
              "      <td>M 2.2 - 10km NW of Avenal, CA</td>\n",
              "      <td>0</td>\n",
              "      <td>earthquake</td>\n",
              "      <td>,geoserve,nearby-cities,origin,phase-data,scit...</td>\n",
              "      <td>-480.0</td>\n",
              "      <td>1539477547926</td>\n",
              "      <td>https://earthquake.usgs.gov/earthquakes/eventp...</td>\n",
              "    </tr>\n",
              "  </tbody>\n",
              "</table>\n",
              "<p>5 rows × 26 columns</p>\n",
              "</div>\n",
              "      <button class=\"colab-df-convert\" onclick=\"convertToInteractive('df-c545c5ce-a15d-4bd9-89c5-76e35300a9c7')\"\n",
              "              title=\"Convert this dataframe to an interactive table.\"\n",
              "              style=\"display:none;\">\n",
              "        \n",
              "  <svg xmlns=\"http://www.w3.org/2000/svg\" height=\"24px\"viewBox=\"0 0 24 24\"\n",
              "       width=\"24px\">\n",
              "    <path d=\"M0 0h24v24H0V0z\" fill=\"none\"/>\n",
              "    <path d=\"M18.56 5.44l.94 2.06.94-2.06 2.06-.94-2.06-.94-.94-2.06-.94 2.06-2.06.94zm-11 1L8.5 8.5l.94-2.06 2.06-.94-2.06-.94L8.5 2.5l-.94 2.06-2.06.94zm10 10l.94 2.06.94-2.06 2.06-.94-2.06-.94-.94-2.06-.94 2.06-2.06.94z\"/><path d=\"M17.41 7.96l-1.37-1.37c-.4-.4-.92-.59-1.43-.59-.52 0-1.04.2-1.43.59L10.3 9.45l-7.72 7.72c-.78.78-.78 2.05 0 2.83L4 21.41c.39.39.9.59 1.41.59.51 0 1.02-.2 1.41-.59l7.78-7.78 2.81-2.81c.8-.78.8-2.07 0-2.86zM5.41 20L4 18.59l7.72-7.72 1.47 1.35L5.41 20z\"/>\n",
              "  </svg>\n",
              "      </button>\n",
              "      \n",
              "  <style>\n",
              "    .colab-df-container {\n",
              "      display:flex;\n",
              "      flex-wrap:wrap;\n",
              "      gap: 12px;\n",
              "    }\n",
              "\n",
              "    .colab-df-convert {\n",
              "      background-color: #E8F0FE;\n",
              "      border: none;\n",
              "      border-radius: 50%;\n",
              "      cursor: pointer;\n",
              "      display: none;\n",
              "      fill: #1967D2;\n",
              "      height: 32px;\n",
              "      padding: 0 0 0 0;\n",
              "      width: 32px;\n",
              "    }\n",
              "\n",
              "    .colab-df-convert:hover {\n",
              "      background-color: #E2EBFA;\n",
              "      box-shadow: 0px 1px 2px rgba(60, 64, 67, 0.3), 0px 1px 3px 1px rgba(60, 64, 67, 0.15);\n",
              "      fill: #174EA6;\n",
              "    }\n",
              "\n",
              "    [theme=dark] .colab-df-convert {\n",
              "      background-color: #3B4455;\n",
              "      fill: #D2E3FC;\n",
              "    }\n",
              "\n",
              "    [theme=dark] .colab-df-convert:hover {\n",
              "      background-color: #434B5C;\n",
              "      box-shadow: 0px 1px 3px 1px rgba(0, 0, 0, 0.15);\n",
              "      filter: drop-shadow(0px 1px 2px rgba(0, 0, 0, 0.3));\n",
              "      fill: #FFFFFF;\n",
              "    }\n",
              "  </style>\n",
              "\n",
              "      <script>\n",
              "        const buttonEl =\n",
              "          document.querySelector('#df-c545c5ce-a15d-4bd9-89c5-76e35300a9c7 button.colab-df-convert');\n",
              "        buttonEl.style.display =\n",
              "          google.colab.kernel.accessAllowed ? 'block' : 'none';\n",
              "\n",
              "        async function convertToInteractive(key) {\n",
              "          const element = document.querySelector('#df-c545c5ce-a15d-4bd9-89c5-76e35300a9c7');\n",
              "          const dataTable =\n",
              "            await google.colab.kernel.invokeFunction('convertToInteractive',\n",
              "                                                     [key], {});\n",
              "          if (!dataTable) return;\n",
              "\n",
              "          const docLinkHtml = 'Like what you see? Visit the ' +\n",
              "            '<a target=\"_blank\" href=https://colab.research.google.com/notebooks/data_table.ipynb>data table notebook</a>'\n",
              "            + ' to learn more about interactive tables.';\n",
              "          element.innerHTML = '';\n",
              "          dataTable['output_type'] = 'display_data';\n",
              "          await google.colab.output.renderOutput(dataTable, element);\n",
              "          const docLink = document.createElement('div');\n",
              "          docLink.innerHTML = docLinkHtml;\n",
              "          element.appendChild(docLink);\n",
              "        }\n",
              "      </script>\n",
              "    </div>\n",
              "  </div>\n",
              "  "
            ]
          },
          "metadata": {},
          "execution_count": 4
        }
      ]
    },
    {
      "cell_type": "markdown",
      "metadata": {
        "id": "85Osr4ga1yDH"
      },
      "source": [
        "## Selecting columns\n",
        "Grab an entire column using attribute notation:"
      ]
    },
    {
      "cell_type": "code",
      "execution_count": null,
      "metadata": {
        "id": "ZL3K81Iw1yDI",
        "outputId": "5c88daf0-4e42-4e04-a1fd-093f6efb7882"
      },
      "outputs": [
        {
          "data": {
            "text/plain": [
              "0       1.35\n",
              "1       1.29\n",
              "2       3.42\n",
              "3       0.44\n",
              "4       2.16\n",
              "        ... \n",
              "9327    0.62\n",
              "9328    1.00\n",
              "9329    2.40\n",
              "9330    1.10\n",
              "9331    0.66\n",
              "Name: mag, Length: 9332, dtype: float64"
            ]
          },
          "execution_count": 2,
          "metadata": {},
          "output_type": "execute_result"
        }
      ],
      "source": [
        "df.mag"
      ]
    },
    {
      "cell_type": "markdown",
      "metadata": {
        "id": "cqHQrkqx1yDJ"
      },
      "source": [
        "Grab an entire column using dictionary syntax:"
      ]
    },
    {
      "cell_type": "code",
      "execution_count": null,
      "metadata": {
        "id": "WqdMN0fJ1yDK",
        "outputId": "1e571a3e-20c0-4756-a409-e324f2728a4d"
      },
      "outputs": [
        {
          "data": {
            "text/plain": [
              "0       1.35\n",
              "1       1.29\n",
              "2       3.42\n",
              "3       0.44\n",
              "4       2.16\n",
              "        ... \n",
              "9327    0.62\n",
              "9328    1.00\n",
              "9329    2.40\n",
              "9330    1.10\n",
              "9331    0.66\n",
              "Name: mag, Length: 9332, dtype: float64"
            ]
          },
          "execution_count": 3,
          "metadata": {},
          "output_type": "execute_result"
        }
      ],
      "source": [
        "df['mag']"
      ]
    },
    {
      "cell_type": "markdown",
      "metadata": {
        "id": "ya1N0oGJ1yDL"
      },
      "source": [
        "Selecting multiple columns:"
      ]
    },
    {
      "cell_type": "code",
      "execution_count": null,
      "metadata": {
        "id": "UkiuEmW_1yDM",
        "outputId": "0fe3e7ac-cb30-40e8-80f3-ab3599843969"
      },
      "outputs": [
        {
          "data": {
            "text/html": [
              "<div>\n",
              "<style scoped>\n",
              "    .dataframe tbody tr th:only-of-type {\n",
              "        vertical-align: middle;\n",
              "    }\n",
              "\n",
              "    .dataframe tbody tr th {\n",
              "        vertical-align: top;\n",
              "    }\n",
              "\n",
              "    .dataframe thead th {\n",
              "        text-align: right;\n",
              "    }\n",
              "</style>\n",
              "<table border=\"1\" class=\"dataframe\">\n",
              "  <thead>\n",
              "    <tr style=\"text-align: right;\">\n",
              "      <th></th>\n",
              "      <th>mag</th>\n",
              "      <th>title</th>\n",
              "    </tr>\n",
              "  </thead>\n",
              "  <tbody>\n",
              "    <tr>\n",
              "      <th>0</th>\n",
              "      <td>1.35</td>\n",
              "      <td>M 1.4 - 9km NE of Aguanga, CA</td>\n",
              "    </tr>\n",
              "    <tr>\n",
              "      <th>1</th>\n",
              "      <td>1.29</td>\n",
              "      <td>M 1.3 - 9km NE of Aguanga, CA</td>\n",
              "    </tr>\n",
              "    <tr>\n",
              "      <th>2</th>\n",
              "      <td>3.42</td>\n",
              "      <td>M 3.4 - 8km NE of Aguanga, CA</td>\n",
              "    </tr>\n",
              "    <tr>\n",
              "      <th>3</th>\n",
              "      <td>0.44</td>\n",
              "      <td>M 0.4 - 9km NE of Aguanga, CA</td>\n",
              "    </tr>\n",
              "    <tr>\n",
              "      <th>4</th>\n",
              "      <td>2.16</td>\n",
              "      <td>M 2.2 - 10km NW of Avenal, CA</td>\n",
              "    </tr>\n",
              "    <tr>\n",
              "      <th>...</th>\n",
              "      <td>...</td>\n",
              "      <td>...</td>\n",
              "    </tr>\n",
              "    <tr>\n",
              "      <th>9327</th>\n",
              "      <td>0.62</td>\n",
              "      <td>M 0.6 - 9km ENE of Mammoth Lakes, CA</td>\n",
              "    </tr>\n",
              "    <tr>\n",
              "      <th>9328</th>\n",
              "      <td>1.00</td>\n",
              "      <td>M 1.0 - 3km W of Julian, CA</td>\n",
              "    </tr>\n",
              "    <tr>\n",
              "      <th>9329</th>\n",
              "      <td>2.40</td>\n",
              "      <td>M 2.4 - 35km NNE of Hatillo, Puerto Rico</td>\n",
              "    </tr>\n",
              "    <tr>\n",
              "      <th>9330</th>\n",
              "      <td>1.10</td>\n",
              "      <td>M 1.1 - 9km NE of Aguanga, CA</td>\n",
              "    </tr>\n",
              "    <tr>\n",
              "      <th>9331</th>\n",
              "      <td>0.66</td>\n",
              "      <td>M 0.7 - 9km NE of Aguanga, CA</td>\n",
              "    </tr>\n",
              "  </tbody>\n",
              "</table>\n",
              "<p>9332 rows × 2 columns</p>\n",
              "</div>"
            ],
            "text/plain": [
              "       mag                                     title\n",
              "0     1.35             M 1.4 - 9km NE of Aguanga, CA\n",
              "1     1.29             M 1.3 - 9km NE of Aguanga, CA\n",
              "2     3.42             M 3.4 - 8km NE of Aguanga, CA\n",
              "3     0.44             M 0.4 - 9km NE of Aguanga, CA\n",
              "4     2.16             M 2.2 - 10km NW of Avenal, CA\n",
              "...    ...                                       ...\n",
              "9327  0.62      M 0.6 - 9km ENE of Mammoth Lakes, CA\n",
              "9328  1.00               M 1.0 - 3km W of Julian, CA\n",
              "9329  2.40  M 2.4 - 35km NNE of Hatillo, Puerto Rico\n",
              "9330  1.10             M 1.1 - 9km NE of Aguanga, CA\n",
              "9331  0.66             M 0.7 - 9km NE of Aguanga, CA\n",
              "\n",
              "[9332 rows x 2 columns]"
            ]
          },
          "execution_count": 4,
          "metadata": {},
          "output_type": "execute_result"
        }
      ],
      "source": [
        "df[['mag', 'title']]"
      ]
    },
    {
      "cell_type": "markdown",
      "metadata": {
        "id": "OEEzC3vw1yDO"
      },
      "source": [
        "Selecting columns using list comprehensions and string operations:"
      ]
    },
    {
      "cell_type": "code",
      "source": [
        "df.columns"
      ],
      "metadata": {
        "colab": {
          "base_uri": "https://localhost:8080/"
        },
        "id": "NTuPIpeA6MGW",
        "outputId": "0c376290-1ce6-4018-bde8-40adeca2e7c0"
      },
      "execution_count": null,
      "outputs": [
        {
          "output_type": "execute_result",
          "data": {
            "text/plain": [
              "Index(['alert', 'cdi', 'code', 'detail', 'dmin', 'felt', 'gap', 'ids', 'mag',\n",
              "       'magType', 'mmi', 'net', 'nst', 'place', 'rms', 'sig', 'sources',\n",
              "       'status', 'time', 'title', 'tsunami', 'type', 'types', 'tz', 'updated',\n",
              "       'url'],\n",
              "      dtype='object')"
            ]
          },
          "metadata": {},
          "execution_count": 5
        }
      ]
    },
    {
      "cell_type": "code",
      "execution_count": null,
      "metadata": {
        "colab": {
          "base_uri": "https://localhost:8080/",
          "height": 424
        },
        "id": "5XRZNOC_1yDP",
        "outputId": "ff186e6d-b0d7-40f8-8876-d81170c9f92d"
      },
      "outputs": [
        {
          "output_type": "execute_result",
          "data": {
            "text/plain": [
              "                                         title           time   mag magType\n",
              "0                M 1.4 - 9km NE of Aguanga, CA  1539475168010  1.35      ml\n",
              "1                M 1.3 - 9km NE of Aguanga, CA  1539475129610  1.29      ml\n",
              "2                M 3.4 - 8km NE of Aguanga, CA  1539475062610  3.42      ml\n",
              "3                M 0.4 - 9km NE of Aguanga, CA  1539474978070  0.44      ml\n",
              "4                M 2.2 - 10km NW of Avenal, CA  1539474716050  2.16      md\n",
              "...                                        ...            ...   ...     ...\n",
              "9327      M 0.6 - 9km ENE of Mammoth Lakes, CA  1537230228060  0.62      md\n",
              "9328               M 1.0 - 3km W of Julian, CA  1537230135130  1.00      ml\n",
              "9329  M 2.4 - 35km NNE of Hatillo, Puerto Rico  1537229908180  2.40      md\n",
              "9330             M 1.1 - 9km NE of Aguanga, CA  1537229545350  1.10      ml\n",
              "9331             M 0.7 - 9km NE of Aguanga, CA  1537228864470  0.66      ml\n",
              "\n",
              "[9332 rows x 4 columns]"
            ],
            "text/html": [
              "\n",
              "  <div id=\"df-e35464f3-b364-4307-89ae-1ec58404bb81\">\n",
              "    <div class=\"colab-df-container\">\n",
              "      <div>\n",
              "<style scoped>\n",
              "    .dataframe tbody tr th:only-of-type {\n",
              "        vertical-align: middle;\n",
              "    }\n",
              "\n",
              "    .dataframe tbody tr th {\n",
              "        vertical-align: top;\n",
              "    }\n",
              "\n",
              "    .dataframe thead th {\n",
              "        text-align: right;\n",
              "    }\n",
              "</style>\n",
              "<table border=\"1\" class=\"dataframe\">\n",
              "  <thead>\n",
              "    <tr style=\"text-align: right;\">\n",
              "      <th></th>\n",
              "      <th>title</th>\n",
              "      <th>time</th>\n",
              "      <th>mag</th>\n",
              "      <th>magType</th>\n",
              "    </tr>\n",
              "  </thead>\n",
              "  <tbody>\n",
              "    <tr>\n",
              "      <th>0</th>\n",
              "      <td>M 1.4 - 9km NE of Aguanga, CA</td>\n",
              "      <td>1539475168010</td>\n",
              "      <td>1.35</td>\n",
              "      <td>ml</td>\n",
              "    </tr>\n",
              "    <tr>\n",
              "      <th>1</th>\n",
              "      <td>M 1.3 - 9km NE of Aguanga, CA</td>\n",
              "      <td>1539475129610</td>\n",
              "      <td>1.29</td>\n",
              "      <td>ml</td>\n",
              "    </tr>\n",
              "    <tr>\n",
              "      <th>2</th>\n",
              "      <td>M 3.4 - 8km NE of Aguanga, CA</td>\n",
              "      <td>1539475062610</td>\n",
              "      <td>3.42</td>\n",
              "      <td>ml</td>\n",
              "    </tr>\n",
              "    <tr>\n",
              "      <th>3</th>\n",
              "      <td>M 0.4 - 9km NE of Aguanga, CA</td>\n",
              "      <td>1539474978070</td>\n",
              "      <td>0.44</td>\n",
              "      <td>ml</td>\n",
              "    </tr>\n",
              "    <tr>\n",
              "      <th>4</th>\n",
              "      <td>M 2.2 - 10km NW of Avenal, CA</td>\n",
              "      <td>1539474716050</td>\n",
              "      <td>2.16</td>\n",
              "      <td>md</td>\n",
              "    </tr>\n",
              "    <tr>\n",
              "      <th>...</th>\n",
              "      <td>...</td>\n",
              "      <td>...</td>\n",
              "      <td>...</td>\n",
              "      <td>...</td>\n",
              "    </tr>\n",
              "    <tr>\n",
              "      <th>9327</th>\n",
              "      <td>M 0.6 - 9km ENE of Mammoth Lakes, CA</td>\n",
              "      <td>1537230228060</td>\n",
              "      <td>0.62</td>\n",
              "      <td>md</td>\n",
              "    </tr>\n",
              "    <tr>\n",
              "      <th>9328</th>\n",
              "      <td>M 1.0 - 3km W of Julian, CA</td>\n",
              "      <td>1537230135130</td>\n",
              "      <td>1.00</td>\n",
              "      <td>ml</td>\n",
              "    </tr>\n",
              "    <tr>\n",
              "      <th>9329</th>\n",
              "      <td>M 2.4 - 35km NNE of Hatillo, Puerto Rico</td>\n",
              "      <td>1537229908180</td>\n",
              "      <td>2.40</td>\n",
              "      <td>md</td>\n",
              "    </tr>\n",
              "    <tr>\n",
              "      <th>9330</th>\n",
              "      <td>M 1.1 - 9km NE of Aguanga, CA</td>\n",
              "      <td>1537229545350</td>\n",
              "      <td>1.10</td>\n",
              "      <td>ml</td>\n",
              "    </tr>\n",
              "    <tr>\n",
              "      <th>9331</th>\n",
              "      <td>M 0.7 - 9km NE of Aguanga, CA</td>\n",
              "      <td>1537228864470</td>\n",
              "      <td>0.66</td>\n",
              "      <td>ml</td>\n",
              "    </tr>\n",
              "  </tbody>\n",
              "</table>\n",
              "<p>9332 rows × 4 columns</p>\n",
              "</div>\n",
              "      <button class=\"colab-df-convert\" onclick=\"convertToInteractive('df-e35464f3-b364-4307-89ae-1ec58404bb81')\"\n",
              "              title=\"Convert this dataframe to an interactive table.\"\n",
              "              style=\"display:none;\">\n",
              "        \n",
              "  <svg xmlns=\"http://www.w3.org/2000/svg\" height=\"24px\"viewBox=\"0 0 24 24\"\n",
              "       width=\"24px\">\n",
              "    <path d=\"M0 0h24v24H0V0z\" fill=\"none\"/>\n",
              "    <path d=\"M18.56 5.44l.94 2.06.94-2.06 2.06-.94-2.06-.94-.94-2.06-.94 2.06-2.06.94zm-11 1L8.5 8.5l.94-2.06 2.06-.94-2.06-.94L8.5 2.5l-.94 2.06-2.06.94zm10 10l.94 2.06.94-2.06 2.06-.94-2.06-.94-.94-2.06-.94 2.06-2.06.94z\"/><path d=\"M17.41 7.96l-1.37-1.37c-.4-.4-.92-.59-1.43-.59-.52 0-1.04.2-1.43.59L10.3 9.45l-7.72 7.72c-.78.78-.78 2.05 0 2.83L4 21.41c.39.39.9.59 1.41.59.51 0 1.02-.2 1.41-.59l7.78-7.78 2.81-2.81c.8-.78.8-2.07 0-2.86zM5.41 20L4 18.59l7.72-7.72 1.47 1.35L5.41 20z\"/>\n",
              "  </svg>\n",
              "      </button>\n",
              "      \n",
              "  <style>\n",
              "    .colab-df-container {\n",
              "      display:flex;\n",
              "      flex-wrap:wrap;\n",
              "      gap: 12px;\n",
              "    }\n",
              "\n",
              "    .colab-df-convert {\n",
              "      background-color: #E8F0FE;\n",
              "      border: none;\n",
              "      border-radius: 50%;\n",
              "      cursor: pointer;\n",
              "      display: none;\n",
              "      fill: #1967D2;\n",
              "      height: 32px;\n",
              "      padding: 0 0 0 0;\n",
              "      width: 32px;\n",
              "    }\n",
              "\n",
              "    .colab-df-convert:hover {\n",
              "      background-color: #E2EBFA;\n",
              "      box-shadow: 0px 1px 2px rgba(60, 64, 67, 0.3), 0px 1px 3px 1px rgba(60, 64, 67, 0.15);\n",
              "      fill: #174EA6;\n",
              "    }\n",
              "\n",
              "    [theme=dark] .colab-df-convert {\n",
              "      background-color: #3B4455;\n",
              "      fill: #D2E3FC;\n",
              "    }\n",
              "\n",
              "    [theme=dark] .colab-df-convert:hover {\n",
              "      background-color: #434B5C;\n",
              "      box-shadow: 0px 1px 3px 1px rgba(0, 0, 0, 0.15);\n",
              "      filter: drop-shadow(0px 1px 2px rgba(0, 0, 0, 0.3));\n",
              "      fill: #FFFFFF;\n",
              "    }\n",
              "  </style>\n",
              "\n",
              "      <script>\n",
              "        const buttonEl =\n",
              "          document.querySelector('#df-e35464f3-b364-4307-89ae-1ec58404bb81 button.colab-df-convert');\n",
              "        buttonEl.style.display =\n",
              "          google.colab.kernel.accessAllowed ? 'block' : 'none';\n",
              "\n",
              "        async function convertToInteractive(key) {\n",
              "          const element = document.querySelector('#df-e35464f3-b364-4307-89ae-1ec58404bb81');\n",
              "          const dataTable =\n",
              "            await google.colab.kernel.invokeFunction('convertToInteractive',\n",
              "                                                     [key], {});\n",
              "          if (!dataTable) return;\n",
              "\n",
              "          const docLinkHtml = 'Like what you see? Visit the ' +\n",
              "            '<a target=\"_blank\" href=https://colab.research.google.com/notebooks/data_table.ipynb>data table notebook</a>'\n",
              "            + ' to learn more about interactive tables.';\n",
              "          element.innerHTML = '';\n",
              "          dataTable['output_type'] = 'display_data';\n",
              "          await google.colab.output.renderOutput(dataTable, element);\n",
              "          const docLink = document.createElement('div');\n",
              "          docLink.innerHTML = docLinkHtml;\n",
              "          element.appendChild(docLink);\n",
              "        }\n",
              "      </script>\n",
              "    </div>\n",
              "  </div>\n",
              "  "
            ]
          },
          "metadata": {},
          "execution_count": 6
        }
      ],
      "source": [
        "df[\n",
        "    ['title', 'time']\n",
        "    + [col for col in df.columns if col.startswith('mag')]  ## mag, magType\n",
        "]"
      ]
    },
    {
      "cell_type": "markdown",
      "metadata": {
        "id": "4rT_nqPq1yDQ"
      },
      "source": [
        "Breaking down this example:\n",
        "1. the list comprehension"
      ]
    },
    {
      "cell_type": "code",
      "execution_count": null,
      "metadata": {
        "id": "ONayn7qA1yDR",
        "outputId": "8ab3cc1c-1dd7-423f-ced2-f8c0b8acb522"
      },
      "outputs": [
        {
          "data": {
            "text/plain": [
              "['mag', 'magType']"
            ]
          },
          "execution_count": 6,
          "metadata": {},
          "output_type": "execute_result"
        }
      ],
      "source": [
        "[col for col in df.columns if col.startswith('mag')]"
      ]
    },
    {
      "cell_type": "markdown",
      "metadata": {
        "id": "SKX_MEEM1yDR"
      },
      "source": [
        "2. assembling the list"
      ]
    },
    {
      "cell_type": "code",
      "execution_count": null,
      "metadata": {
        "id": "PqlNDaXx1yDS",
        "outputId": "30cdc025-cccf-4566-807e-67f404a91dc2"
      },
      "outputs": [
        {
          "data": {
            "text/plain": [
              "['title', 'time', 'mag', 'magType']"
            ]
          },
          "execution_count": 7,
          "metadata": {},
          "output_type": "execute_result"
        }
      ],
      "source": [
        "['title', 'time'] \\\n",
        "+ [col for col in df.columns if col.startswith('mag')]"
      ]
    },
    {
      "cell_type": "markdown",
      "metadata": {
        "id": "OCJywysU1yDT"
      },
      "source": [
        "3. using this list as the list of columns"
      ]
    },
    {
      "cell_type": "code",
      "execution_count": null,
      "metadata": {
        "id": "o8fSxxQS1yDU",
        "outputId": "3d13df28-9651-4eed-c002-17e833b675fb"
      },
      "outputs": [
        {
          "data": {
            "text/html": [
              "<div>\n",
              "<style scoped>\n",
              "    .dataframe tbody tr th:only-of-type {\n",
              "        vertical-align: middle;\n",
              "    }\n",
              "\n",
              "    .dataframe tbody tr th {\n",
              "        vertical-align: top;\n",
              "    }\n",
              "\n",
              "    .dataframe thead th {\n",
              "        text-align: right;\n",
              "    }\n",
              "</style>\n",
              "<table border=\"1\" class=\"dataframe\">\n",
              "  <thead>\n",
              "    <tr style=\"text-align: right;\">\n",
              "      <th></th>\n",
              "      <th>title</th>\n",
              "      <th>time</th>\n",
              "      <th>mag</th>\n",
              "      <th>magType</th>\n",
              "    </tr>\n",
              "  </thead>\n",
              "  <tbody>\n",
              "    <tr>\n",
              "      <th>0</th>\n",
              "      <td>M 1.4 - 9km NE of Aguanga, CA</td>\n",
              "      <td>1539475168010</td>\n",
              "      <td>1.35</td>\n",
              "      <td>ml</td>\n",
              "    </tr>\n",
              "    <tr>\n",
              "      <th>1</th>\n",
              "      <td>M 1.3 - 9km NE of Aguanga, CA</td>\n",
              "      <td>1539475129610</td>\n",
              "      <td>1.29</td>\n",
              "      <td>ml</td>\n",
              "    </tr>\n",
              "    <tr>\n",
              "      <th>2</th>\n",
              "      <td>M 3.4 - 8km NE of Aguanga, CA</td>\n",
              "      <td>1539475062610</td>\n",
              "      <td>3.42</td>\n",
              "      <td>ml</td>\n",
              "    </tr>\n",
              "    <tr>\n",
              "      <th>3</th>\n",
              "      <td>M 0.4 - 9km NE of Aguanga, CA</td>\n",
              "      <td>1539474978070</td>\n",
              "      <td>0.44</td>\n",
              "      <td>ml</td>\n",
              "    </tr>\n",
              "    <tr>\n",
              "      <th>4</th>\n",
              "      <td>M 2.2 - 10km NW of Avenal, CA</td>\n",
              "      <td>1539474716050</td>\n",
              "      <td>2.16</td>\n",
              "      <td>md</td>\n",
              "    </tr>\n",
              "    <tr>\n",
              "      <th>...</th>\n",
              "      <td>...</td>\n",
              "      <td>...</td>\n",
              "      <td>...</td>\n",
              "      <td>...</td>\n",
              "    </tr>\n",
              "    <tr>\n",
              "      <th>9327</th>\n",
              "      <td>M 0.6 - 9km ENE of Mammoth Lakes, CA</td>\n",
              "      <td>1537230228060</td>\n",
              "      <td>0.62</td>\n",
              "      <td>md</td>\n",
              "    </tr>\n",
              "    <tr>\n",
              "      <th>9328</th>\n",
              "      <td>M 1.0 - 3km W of Julian, CA</td>\n",
              "      <td>1537230135130</td>\n",
              "      <td>1.00</td>\n",
              "      <td>ml</td>\n",
              "    </tr>\n",
              "    <tr>\n",
              "      <th>9329</th>\n",
              "      <td>M 2.4 - 35km NNE of Hatillo, Puerto Rico</td>\n",
              "      <td>1537229908180</td>\n",
              "      <td>2.40</td>\n",
              "      <td>md</td>\n",
              "    </tr>\n",
              "    <tr>\n",
              "      <th>9330</th>\n",
              "      <td>M 1.1 - 9km NE of Aguanga, CA</td>\n",
              "      <td>1537229545350</td>\n",
              "      <td>1.10</td>\n",
              "      <td>ml</td>\n",
              "    </tr>\n",
              "    <tr>\n",
              "      <th>9331</th>\n",
              "      <td>M 0.7 - 9km NE of Aguanga, CA</td>\n",
              "      <td>1537228864470</td>\n",
              "      <td>0.66</td>\n",
              "      <td>ml</td>\n",
              "    </tr>\n",
              "  </tbody>\n",
              "</table>\n",
              "<p>9332 rows × 4 columns</p>\n",
              "</div>"
            ],
            "text/plain": [
              "                                         title           time   mag magType\n",
              "0                M 1.4 - 9km NE of Aguanga, CA  1539475168010  1.35      ml\n",
              "1                M 1.3 - 9km NE of Aguanga, CA  1539475129610  1.29      ml\n",
              "2                M 3.4 - 8km NE of Aguanga, CA  1539475062610  3.42      ml\n",
              "3                M 0.4 - 9km NE of Aguanga, CA  1539474978070  0.44      ml\n",
              "4                M 2.2 - 10km NW of Avenal, CA  1539474716050  2.16      md\n",
              "...                                        ...            ...   ...     ...\n",
              "9327      M 0.6 - 9km ENE of Mammoth Lakes, CA  1537230228060  0.62      md\n",
              "9328               M 1.0 - 3km W of Julian, CA  1537230135130  1.00      ml\n",
              "9329  M 2.4 - 35km NNE of Hatillo, Puerto Rico  1537229908180  2.40      md\n",
              "9330             M 1.1 - 9km NE of Aguanga, CA  1537229545350  1.10      ml\n",
              "9331             M 0.7 - 9km NE of Aguanga, CA  1537228864470  0.66      ml\n",
              "\n",
              "[9332 rows x 4 columns]"
            ]
          },
          "execution_count": 8,
          "metadata": {},
          "output_type": "execute_result"
        }
      ],
      "source": [
        "df[\n",
        "    ['title', 'time']\n",
        "    + [col for col in df.columns if col.startswith('mag')]\n",
        "]"
      ]
    },
    {
      "cell_type": "markdown",
      "metadata": {
        "id": "BjGKouvC1yDU"
      },
      "source": [
        "## Slicing\n",
        "### Selecting rows\n",
        "Using row numbers (inclusive of first index, exclusive of last):"
      ]
    },
    {
      "cell_type": "code",
      "execution_count": null,
      "metadata": {
        "id": "0LdxHwIL1yDV",
        "outputId": "1c822dbc-d7a3-47ba-b6ee-fb72eeb8fc17"
      },
      "outputs": [
        {
          "data": {
            "text/html": [
              "<div>\n",
              "<style scoped>\n",
              "    .dataframe tbody tr th:only-of-type {\n",
              "        vertical-align: middle;\n",
              "    }\n",
              "\n",
              "    .dataframe tbody tr th {\n",
              "        vertical-align: top;\n",
              "    }\n",
              "\n",
              "    .dataframe thead th {\n",
              "        text-align: right;\n",
              "    }\n",
              "</style>\n",
              "<table border=\"1\" class=\"dataframe\">\n",
              "  <thead>\n",
              "    <tr style=\"text-align: right;\">\n",
              "      <th></th>\n",
              "      <th>alert</th>\n",
              "      <th>cdi</th>\n",
              "      <th>code</th>\n",
              "      <th>detail</th>\n",
              "      <th>dmin</th>\n",
              "      <th>felt</th>\n",
              "      <th>gap</th>\n",
              "      <th>ids</th>\n",
              "      <th>mag</th>\n",
              "      <th>magType</th>\n",
              "      <th>...</th>\n",
              "      <th>sources</th>\n",
              "      <th>status</th>\n",
              "      <th>time</th>\n",
              "      <th>title</th>\n",
              "      <th>tsunami</th>\n",
              "      <th>type</th>\n",
              "      <th>types</th>\n",
              "      <th>tz</th>\n",
              "      <th>updated</th>\n",
              "      <th>url</th>\n",
              "    </tr>\n",
              "  </thead>\n",
              "  <tbody>\n",
              "    <tr>\n",
              "      <th>100</th>\n",
              "      <td>NaN</td>\n",
              "      <td>NaN</td>\n",
              "      <td>20280310</td>\n",
              "      <td>https://earthquake.usgs.gov/fdsnws/event/1/que...</td>\n",
              "      <td>NaN</td>\n",
              "      <td>NaN</td>\n",
              "      <td>NaN</td>\n",
              "      <td>,ak20280310,</td>\n",
              "      <td>1.20</td>\n",
              "      <td>ml</td>\n",
              "      <td>...</td>\n",
              "      <td>,ak,</td>\n",
              "      <td>automatic</td>\n",
              "      <td>1539435449480</td>\n",
              "      <td>M 1.2 - 25km NW of Ester, Alaska</td>\n",
              "      <td>0</td>\n",
              "      <td>earthquake</td>\n",
              "      <td>,geoserve,origin,</td>\n",
              "      <td>-540.0</td>\n",
              "      <td>1539443551010</td>\n",
              "      <td>https://earthquake.usgs.gov/earthquakes/eventp...</td>\n",
              "    </tr>\n",
              "    <tr>\n",
              "      <th>101</th>\n",
              "      <td>NaN</td>\n",
              "      <td>NaN</td>\n",
              "      <td>73096756</td>\n",
              "      <td>https://earthquake.usgs.gov/fdsnws/event/1/que...</td>\n",
              "      <td>0.01355</td>\n",
              "      <td>NaN</td>\n",
              "      <td>185.0</td>\n",
              "      <td>,nc73096756,</td>\n",
              "      <td>0.59</td>\n",
              "      <td>md</td>\n",
              "      <td>...</td>\n",
              "      <td>,nc,</td>\n",
              "      <td>automatic</td>\n",
              "      <td>1539435391320</td>\n",
              "      <td>M 0.6 - 8km ESE of Mammoth Lakes, CA</td>\n",
              "      <td>0</td>\n",
              "      <td>earthquake</td>\n",
              "      <td>,geoserve,nearby-cities,origin,phase-data,scit...</td>\n",
              "      <td>-480.0</td>\n",
              "      <td>1539439802162</td>\n",
              "      <td>https://earthquake.usgs.gov/earthquakes/eventp...</td>\n",
              "    </tr>\n",
              "    <tr>\n",
              "      <th>102</th>\n",
              "      <td>NaN</td>\n",
              "      <td>NaN</td>\n",
              "      <td>37388730</td>\n",
              "      <td>https://earthquake.usgs.gov/fdsnws/event/1/que...</td>\n",
              "      <td>0.02987</td>\n",
              "      <td>NaN</td>\n",
              "      <td>39.0</td>\n",
              "      <td>,ci37388730,</td>\n",
              "      <td>1.33</td>\n",
              "      <td>ml</td>\n",
              "      <td>...</td>\n",
              "      <td>,ci,</td>\n",
              "      <td>automatic</td>\n",
              "      <td>1539435293090</td>\n",
              "      <td>M 1.3 - 8km ENE of Aguanga, CA</td>\n",
              "      <td>0</td>\n",
              "      <td>earthquake</td>\n",
              "      <td>,focal-mechanism,geoserve,nearby-cities,origin...</td>\n",
              "      <td>-480.0</td>\n",
              "      <td>1539435940470</td>\n",
              "      <td>https://earthquake.usgs.gov/earthquakes/eventp...</td>\n",
              "    </tr>\n",
              "  </tbody>\n",
              "</table>\n",
              "<p>3 rows × 26 columns</p>\n",
              "</div>"
            ],
            "text/plain": [
              "    alert  cdi      code                                             detail  \\\n",
              "100   NaN  NaN  20280310  https://earthquake.usgs.gov/fdsnws/event/1/que...   \n",
              "101   NaN  NaN  73096756  https://earthquake.usgs.gov/fdsnws/event/1/que...   \n",
              "102   NaN  NaN  37388730  https://earthquake.usgs.gov/fdsnws/event/1/que...   \n",
              "\n",
              "        dmin  felt    gap           ids   mag magType  ...  sources  \\\n",
              "100      NaN   NaN    NaN  ,ak20280310,  1.20      ml  ...     ,ak,   \n",
              "101  0.01355   NaN  185.0  ,nc73096756,  0.59      md  ...     ,nc,   \n",
              "102  0.02987   NaN   39.0  ,ci37388730,  1.33      ml  ...     ,ci,   \n",
              "\n",
              "        status           time                                 title  tsunami  \\\n",
              "100  automatic  1539435449480      M 1.2 - 25km NW of Ester, Alaska        0   \n",
              "101  automatic  1539435391320  M 0.6 - 8km ESE of Mammoth Lakes, CA        0   \n",
              "102  automatic  1539435293090        M 1.3 - 8km ENE of Aguanga, CA        0   \n",
              "\n",
              "           type                                              types     tz  \\\n",
              "100  earthquake                                  ,geoserve,origin, -540.0   \n",
              "101  earthquake  ,geoserve,nearby-cities,origin,phase-data,scit... -480.0   \n",
              "102  earthquake  ,focal-mechanism,geoserve,nearby-cities,origin... -480.0   \n",
              "\n",
              "           updated                                                url  \n",
              "100  1539443551010  https://earthquake.usgs.gov/earthquakes/eventp...  \n",
              "101  1539439802162  https://earthquake.usgs.gov/earthquakes/eventp...  \n",
              "102  1539435940470  https://earthquake.usgs.gov/earthquakes/eventp...  \n",
              "\n",
              "[3 rows x 26 columns]"
            ]
          },
          "execution_count": 9,
          "metadata": {},
          "output_type": "execute_result"
        }
      ],
      "source": [
        "df[100:103]"
      ]
    },
    {
      "cell_type": "markdown",
      "metadata": {
        "id": "h0rgRh0i1yDW"
      },
      "source": [
        "### Selecting rows and columns with chaining"
      ]
    },
    {
      "cell_type": "code",
      "execution_count": null,
      "metadata": {
        "id": "OBmu_u-x1yDW",
        "outputId": "f9c031d1-613e-4adf-b89d-02ea78cd0f01"
      },
      "outputs": [
        {
          "data": {
            "text/html": [
              "<div>\n",
              "<style scoped>\n",
              "    .dataframe tbody tr th:only-of-type {\n",
              "        vertical-align: middle;\n",
              "    }\n",
              "\n",
              "    .dataframe tbody tr th {\n",
              "        vertical-align: top;\n",
              "    }\n",
              "\n",
              "    .dataframe thead th {\n",
              "        text-align: right;\n",
              "    }\n",
              "</style>\n",
              "<table border=\"1\" class=\"dataframe\">\n",
              "  <thead>\n",
              "    <tr style=\"text-align: right;\">\n",
              "      <th></th>\n",
              "      <th>title</th>\n",
              "      <th>time</th>\n",
              "    </tr>\n",
              "  </thead>\n",
              "  <tbody>\n",
              "    <tr>\n",
              "      <th>100</th>\n",
              "      <td>M 1.2 - 25km NW of Ester, Alaska</td>\n",
              "      <td>1539435449480</td>\n",
              "    </tr>\n",
              "    <tr>\n",
              "      <th>101</th>\n",
              "      <td>M 0.6 - 8km ESE of Mammoth Lakes, CA</td>\n",
              "      <td>1539435391320</td>\n",
              "    </tr>\n",
              "    <tr>\n",
              "      <th>102</th>\n",
              "      <td>M 1.3 - 8km ENE of Aguanga, CA</td>\n",
              "      <td>1539435293090</td>\n",
              "    </tr>\n",
              "  </tbody>\n",
              "</table>\n",
              "</div>"
            ],
            "text/plain": [
              "                                    title           time\n",
              "100      M 1.2 - 25km NW of Ester, Alaska  1539435449480\n",
              "101  M 0.6 - 8km ESE of Mammoth Lakes, CA  1539435391320\n",
              "102        M 1.3 - 8km ENE of Aguanga, CA  1539435293090"
            ]
          },
          "execution_count": 10,
          "metadata": {},
          "output_type": "execute_result"
        }
      ],
      "source": [
        "df[['title', 'time']][100:103]"
      ]
    },
    {
      "cell_type": "markdown",
      "metadata": {
        "id": "b3JCfj2u1yDX"
      },
      "source": [
        "Order doesn't matter here:"
      ]
    },
    {
      "cell_type": "code",
      "execution_count": null,
      "metadata": {
        "id": "RY8zqi9W1yDX",
        "outputId": "7ed099bb-e3be-4384-f7b8-59dcd8aa7f56"
      },
      "outputs": [
        {
          "data": {
            "text/plain": [
              "True"
            ]
          },
          "execution_count": 11,
          "metadata": {},
          "output_type": "execute_result"
        }
      ],
      "source": [
        "df[100:103][['title', 'time']].equals(\n",
        "    df[['title', 'time']][100:103]\n",
        ")"
      ]
    },
    {
      "cell_type": "markdown",
      "metadata": {
        "id": "zGPZ-12n1yDY"
      },
      "source": [
        "So we know how to select rows and columns, but can we update values? Well, if we try using what we have learned so far, we will see the following warning:"
      ]
    },
    {
      "cell_type": "code",
      "execution_count": null,
      "metadata": {
        "id": "AWBZIpmr1yDZ",
        "outputId": "6960bd73-73ec-4ff3-ccc4-4ba68af007e2"
      },
      "outputs": [
        {
          "name": "stderr",
          "output_type": "stream",
          "text": [
            "/home/stefaniemolin/book_env/lib/python3.7/site-packages/ipykernel_launcher.py:1: SettingWithCopyWarning: \n",
            "A value is trying to be set on a copy of a slice from a DataFrame.\n",
            "Try using .loc[row_indexer,col_indexer] = value instead\n",
            "\n",
            "See the caveats in the documentation: https://pandas.pydata.org/pandas-docs/stable/user_guide/indexing.html#returning-a-view-versus-a-copy\n",
            "  \"\"\"Entry point for launching an IPython kernel.\n"
          ]
        }
      ],
      "source": [
        "df[110:113]['title'] = df[110:113]['title'].str.lower()"
      ]
    },
    {
      "cell_type": "markdown",
      "metadata": {
        "id": "Y_VUDyMi1yDZ"
      },
      "source": [
        "Note that it worked here, but `pandas` says we were setting a value on a copy of a slice and that we should use `loc` instead (topic of the following section):"
      ]
    },
    {
      "cell_type": "code",
      "execution_count": null,
      "metadata": {
        "id": "kdx4COab1yDZ",
        "outputId": "6881f888-b012-4291-9f44-bcf4dfc2b7cc"
      },
      "outputs": [
        {
          "data": {
            "text/plain": [
              "110               m 1.1 - 35km s of ester, alaska\n",
              "111    m 1.9 - 93km wnw of arctic village, alaska\n",
              "112      m 0.9 - 20km wsw of smith valley, nevada\n",
              "Name: title, dtype: object"
            ]
          },
          "execution_count": 13,
          "metadata": {},
          "output_type": "execute_result"
        }
      ],
      "source": [
        "df[110:113]['title']"
      ]
    },
    {
      "cell_type": "markdown",
      "metadata": {
        "id": "oauL894M1yDa"
      },
      "source": [
        "## Indexing\n",
        "\n",
        "Now if we do this with `loc` as the warning suggests, everything goes smoothly. Note we have to lower the end index by one since `loc` is inclusive of endpoints:"
      ]
    },
    {
      "cell_type": "code",
      "execution_count": null,
      "metadata": {
        "id": "h1ZS_ybx1yDa",
        "outputId": "c3d3de19-d43f-45a9-9d35-082bebb32a9d"
      },
      "outputs": [
        {
          "data": {
            "text/plain": [
              "110               m 1.1 - 35km s of ester, alaska\n",
              "111    m 1.9 - 93km wnw of arctic village, alaska\n",
              "112      m 0.9 - 20km wsw of smith valley, nevada\n",
              "Name: title, dtype: object"
            ]
          },
          "execution_count": 14,
          "metadata": {},
          "output_type": "execute_result"
        }
      ],
      "source": [
        "df.loc[110:112, 'title'] = df.loc[110:112, 'title'].str.lower()\n",
        "df.loc[110:112, 'title']"
      ]
    },
    {
      "cell_type": "markdown",
      "metadata": {
        "id": "JfnLS3M51yDb"
      },
      "source": [
        "### Indexing with `loc`\n",
        "Selection of the format `loc[row_indexer, column_indexer]` where `:` can be used to select all:"
      ]
    },
    {
      "cell_type": "code",
      "execution_count": null,
      "metadata": {
        "id": "UIeFCHNL1yDb",
        "outputId": "797d3e78-187c-4b3d-d2a3-e2e34bb7b5d4"
      },
      "outputs": [
        {
          "data": {
            "text/plain": [
              "0                  M 1.4 - 9km NE of Aguanga, CA\n",
              "1                  M 1.3 - 9km NE of Aguanga, CA\n",
              "2                  M 3.4 - 8km NE of Aguanga, CA\n",
              "3                  M 0.4 - 9km NE of Aguanga, CA\n",
              "4                  M 2.2 - 10km NW of Avenal, CA\n",
              "                          ...                   \n",
              "9327        M 0.6 - 9km ENE of Mammoth Lakes, CA\n",
              "9328                 M 1.0 - 3km W of Julian, CA\n",
              "9329    M 2.4 - 35km NNE of Hatillo, Puerto Rico\n",
              "9330               M 1.1 - 9km NE of Aguanga, CA\n",
              "9331               M 0.7 - 9km NE of Aguanga, CA\n",
              "Name: title, Length: 9332, dtype: object"
            ]
          },
          "execution_count": 15,
          "metadata": {},
          "output_type": "execute_result"
        }
      ],
      "source": [
        "df.loc[:,'title']"
      ]
    },
    {
      "cell_type": "markdown",
      "metadata": {
        "id": "TaTC205Q1yDb"
      },
      "source": [
        "We can use `loc` to select specific rows and columns without chaining. If we use row numbers with `loc`, they are now **inclusive** of the end index:"
      ]
    },
    {
      "cell_type": "code",
      "execution_count": null,
      "metadata": {
        "id": "iFuChZZm1yDc",
        "outputId": "6c0d659a-7ccf-4795-c31a-0967e836b1a5"
      },
      "outputs": [
        {
          "data": {
            "text/html": [
              "<div>\n",
              "<style scoped>\n",
              "    .dataframe tbody tr th:only-of-type {\n",
              "        vertical-align: middle;\n",
              "    }\n",
              "\n",
              "    .dataframe tbody tr th {\n",
              "        vertical-align: top;\n",
              "    }\n",
              "\n",
              "    .dataframe thead th {\n",
              "        text-align: right;\n",
              "    }\n",
              "</style>\n",
              "<table border=\"1\" class=\"dataframe\">\n",
              "  <thead>\n",
              "    <tr style=\"text-align: right;\">\n",
              "      <th></th>\n",
              "      <th>title</th>\n",
              "      <th>mag</th>\n",
              "    </tr>\n",
              "  </thead>\n",
              "  <tbody>\n",
              "    <tr>\n",
              "      <th>10</th>\n",
              "      <td>M 0.5 - 10km NE of Aguanga, CA</td>\n",
              "      <td>0.50</td>\n",
              "    </tr>\n",
              "    <tr>\n",
              "      <th>11</th>\n",
              "      <td>M 2.8 - 53km SE of Punta Cana, Dominican Republic</td>\n",
              "      <td>2.77</td>\n",
              "    </tr>\n",
              "    <tr>\n",
              "      <th>12</th>\n",
              "      <td>M 0.5 - 9km NE of Aguanga, CA</td>\n",
              "      <td>0.50</td>\n",
              "    </tr>\n",
              "    <tr>\n",
              "      <th>13</th>\n",
              "      <td>M 4.5 - 120km SSW of Banda Aceh, Indonesia</td>\n",
              "      <td>4.50</td>\n",
              "    </tr>\n",
              "    <tr>\n",
              "      <th>14</th>\n",
              "      <td>M 2.1 - 14km NW of Parkfield, CA</td>\n",
              "      <td>2.13</td>\n",
              "    </tr>\n",
              "    <tr>\n",
              "      <th>15</th>\n",
              "      <td>M 2.0 - 156km WNW of Haines Junction, Canada</td>\n",
              "      <td>2.00</td>\n",
              "    </tr>\n",
              "  </tbody>\n",
              "</table>\n",
              "</div>"
            ],
            "text/plain": [
              "                                                title   mag\n",
              "10                     M 0.5 - 10km NE of Aguanga, CA  0.50\n",
              "11  M 2.8 - 53km SE of Punta Cana, Dominican Republic  2.77\n",
              "12                      M 0.5 - 9km NE of Aguanga, CA  0.50\n",
              "13         M 4.5 - 120km SSW of Banda Aceh, Indonesia  4.50\n",
              "14                   M 2.1 - 14km NW of Parkfield, CA  2.13\n",
              "15       M 2.0 - 156km WNW of Haines Junction, Canada  2.00"
            ]
          },
          "execution_count": 16,
          "metadata": {},
          "output_type": "execute_result"
        }
      ],
      "source": [
        "df.loc[10:15, ['title', 'mag']]"
      ]
    },
    {
      "cell_type": "markdown",
      "metadata": {
        "id": "-QtdmDA71yDc"
      },
      "source": [
        "#### Indexing with `iloc`\n",
        "Exclusive of the endpoint just as Python slicing:"
      ]
    },
    {
      "cell_type": "code",
      "execution_count": null,
      "metadata": {
        "id": "i8ngKNxl1yDc",
        "outputId": "1307e511-7983-4e8d-e4a0-9babb94c6093"
      },
      "outputs": [
        {
          "data": {
            "text/html": [
              "<div>\n",
              "<style scoped>\n",
              "    .dataframe tbody tr th:only-of-type {\n",
              "        vertical-align: middle;\n",
              "    }\n",
              "\n",
              "    .dataframe tbody tr th {\n",
              "        vertical-align: top;\n",
              "    }\n",
              "\n",
              "    .dataframe thead th {\n",
              "        text-align: right;\n",
              "    }\n",
              "</style>\n",
              "<table border=\"1\" class=\"dataframe\">\n",
              "  <thead>\n",
              "    <tr style=\"text-align: right;\">\n",
              "      <th></th>\n",
              "      <th>title</th>\n",
              "      <th>mag</th>\n",
              "    </tr>\n",
              "  </thead>\n",
              "  <tbody>\n",
              "    <tr>\n",
              "      <th>10</th>\n",
              "      <td>M 0.5 - 10km NE of Aguanga, CA</td>\n",
              "      <td>0.50</td>\n",
              "    </tr>\n",
              "    <tr>\n",
              "      <th>11</th>\n",
              "      <td>M 2.8 - 53km SE of Punta Cana, Dominican Republic</td>\n",
              "      <td>2.77</td>\n",
              "    </tr>\n",
              "    <tr>\n",
              "      <th>12</th>\n",
              "      <td>M 0.5 - 9km NE of Aguanga, CA</td>\n",
              "      <td>0.50</td>\n",
              "    </tr>\n",
              "    <tr>\n",
              "      <th>13</th>\n",
              "      <td>M 4.5 - 120km SSW of Banda Aceh, Indonesia</td>\n",
              "      <td>4.50</td>\n",
              "    </tr>\n",
              "    <tr>\n",
              "      <th>14</th>\n",
              "      <td>M 2.1 - 14km NW of Parkfield, CA</td>\n",
              "      <td>2.13</td>\n",
              "    </tr>\n",
              "  </tbody>\n",
              "</table>\n",
              "</div>"
            ],
            "text/plain": [
              "                                                title   mag\n",
              "10                     M 0.5 - 10km NE of Aguanga, CA  0.50\n",
              "11  M 2.8 - 53km SE of Punta Cana, Dominican Republic  2.77\n",
              "12                      M 0.5 - 9km NE of Aguanga, CA  0.50\n",
              "13         M 4.5 - 120km SSW of Banda Aceh, Indonesia  4.50\n",
              "14                   M 2.1 - 14km NW of Parkfield, CA  2.13"
            ]
          },
          "execution_count": 17,
          "metadata": {},
          "output_type": "execute_result"
        }
      ],
      "source": [
        "df.iloc[10:15, [19, 8]]"
      ]
    },
    {
      "cell_type": "markdown",
      "metadata": {
        "id": "x4X79zkY1yDd"
      },
      "source": [
        "We can use slicing syntax with `iloc` for both rows and columns:"
      ]
    },
    {
      "cell_type": "code",
      "execution_count": null,
      "metadata": {
        "id": "J9-oDETd1yDd",
        "outputId": "2d444001-04a5-4b96-83c4-12fc0cf000ca"
      },
      "outputs": [
        {
          "data": {
            "text/html": [
              "<div>\n",
              "<style scoped>\n",
              "    .dataframe tbody tr th:only-of-type {\n",
              "        vertical-align: middle;\n",
              "    }\n",
              "\n",
              "    .dataframe tbody tr th {\n",
              "        vertical-align: top;\n",
              "    }\n",
              "\n",
              "    .dataframe thead th {\n",
              "        text-align: right;\n",
              "    }\n",
              "</style>\n",
              "<table border=\"1\" class=\"dataframe\">\n",
              "  <thead>\n",
              "    <tr style=\"text-align: right;\">\n",
              "      <th></th>\n",
              "      <th>gap</th>\n",
              "      <th>ids</th>\n",
              "      <th>mag</th>\n",
              "      <th>magType</th>\n",
              "    </tr>\n",
              "  </thead>\n",
              "  <tbody>\n",
              "    <tr>\n",
              "      <th>10</th>\n",
              "      <td>57.0</td>\n",
              "      <td>,ci37389162,</td>\n",
              "      <td>0.50</td>\n",
              "      <td>ml</td>\n",
              "    </tr>\n",
              "    <tr>\n",
              "      <th>11</th>\n",
              "      <td>186.0</td>\n",
              "      <td>,pr2018286010,</td>\n",
              "      <td>2.77</td>\n",
              "      <td>md</td>\n",
              "    </tr>\n",
              "    <tr>\n",
              "      <th>12</th>\n",
              "      <td>76.0</td>\n",
              "      <td>,ci37389146,</td>\n",
              "      <td>0.50</td>\n",
              "      <td>ml</td>\n",
              "    </tr>\n",
              "    <tr>\n",
              "      <th>13</th>\n",
              "      <td>157.0</td>\n",
              "      <td>,us1000hbti,</td>\n",
              "      <td>4.50</td>\n",
              "      <td>mb</td>\n",
              "    </tr>\n",
              "    <tr>\n",
              "      <th>14</th>\n",
              "      <td>71.0</td>\n",
              "      <td>,nc73096921,</td>\n",
              "      <td>2.13</td>\n",
              "      <td>md</td>\n",
              "    </tr>\n",
              "  </tbody>\n",
              "</table>\n",
              "</div>"
            ],
            "text/plain": [
              "      gap             ids   mag magType\n",
              "10   57.0    ,ci37389162,  0.50      ml\n",
              "11  186.0  ,pr2018286010,  2.77      md\n",
              "12   76.0    ,ci37389146,  0.50      ml\n",
              "13  157.0    ,us1000hbti,  4.50      mb\n",
              "14   71.0    ,nc73096921,  2.13      md"
            ]
          },
          "execution_count": 18,
          "metadata": {},
          "output_type": "execute_result"
        }
      ],
      "source": [
        "df.iloc[10:15, 6:10]"
      ]
    },
    {
      "cell_type": "markdown",
      "metadata": {
        "id": "6WUhY8OU1yDe"
      },
      "source": [
        "When using `loc`, we can slice on column names. This will be inclusive of the endpoint because you can't be expected to know what the next column name will be. As such, we have multiple ways to achieve the same end goal:"
      ]
    },
    {
      "cell_type": "code",
      "execution_count": null,
      "metadata": {
        "id": "5lHC-QVe1yDe",
        "outputId": "2495b3ba-704d-4a1d-ed68-df8ceb7a4f11"
      },
      "outputs": [
        {
          "data": {
            "text/plain": [
              "True"
            ]
          },
          "execution_count": 19,
          "metadata": {},
          "output_type": "execute_result"
        }
      ],
      "source": [
        "df.iloc[10:15, 6:10].equals(\n",
        "    df.loc[10:14, 'gap':'magType']\n",
        ")"
      ]
    },
    {
      "cell_type": "markdown",
      "metadata": {
        "id": "GYxO0zBp1yDe"
      },
      "source": [
        "### Looking up scalar values\n",
        "We used `loc` and `iloc` to grab subsets of the dataframe. However, if we are just interested in the specific value at a given `[row, column]`, then we can use `iat` and `at`. We use `at` with labels:"
      ]
    },
    {
      "cell_type": "code",
      "execution_count": null,
      "metadata": {
        "id": "0lRT-jpB1yDe",
        "outputId": "e23cba03-cac0-4204-b520-4f026649f640"
      },
      "outputs": [
        {
          "data": {
            "text/plain": [
              "0.5"
            ]
          },
          "execution_count": 20,
          "metadata": {},
          "output_type": "execute_result"
        }
      ],
      "source": [
        "df.at[10, 'mag']"
      ]
    },
    {
      "cell_type": "markdown",
      "metadata": {
        "id": "NJC1GvMk1yDf"
      },
      "source": [
        "...and `iat` with integer indices:"
      ]
    },
    {
      "cell_type": "code",
      "execution_count": null,
      "metadata": {
        "id": "-FFDUJMh1yDf",
        "outputId": "90a22857-601b-443b-e985-6e26573d2157"
      },
      "outputs": [
        {
          "data": {
            "text/plain": [
              "0.5"
            ]
          },
          "execution_count": 21,
          "metadata": {},
          "output_type": "execute_result"
        }
      ],
      "source": [
        "df.iat[10, 8]"
      ]
    },
    {
      "cell_type": "markdown",
      "metadata": {
        "id": "w-cIERTs1yDf"
      },
      "source": [
        "## Filtering\n",
        "We can filter our dataframes using a **Boolean mask**, which can be made as follows:"
      ]
    },
    {
      "cell_type": "code",
      "execution_count": null,
      "metadata": {
        "id": "weieht5-1yDg",
        "outputId": "da296344-f0c9-4809-e91f-bb68a74d565b"
      },
      "outputs": [
        {
          "data": {
            "text/plain": [
              "0       False\n",
              "1       False\n",
              "2        True\n",
              "3       False\n",
              "4        True\n",
              "        ...  \n",
              "9327    False\n",
              "9328    False\n",
              "9329     True\n",
              "9330    False\n",
              "9331    False\n",
              "Name: mag, Length: 9332, dtype: bool"
            ]
          },
          "execution_count": 22,
          "metadata": {},
          "output_type": "execute_result"
        }
      ],
      "source": [
        "df.mag > 2"
      ]
    },
    {
      "cell_type": "markdown",
      "metadata": {
        "id": "jK8BqmIk1yDg"
      },
      "source": [
        "To use a mask for selection, we simply place it inside the brackets:"
      ]
    },
    {
      "cell_type": "code",
      "execution_count": null,
      "metadata": {
        "id": "F11OwKWf1yDg",
        "outputId": "91eca585-2e49-428e-9739-0bce8902232d"
      },
      "outputs": [
        {
          "data": {
            "text/html": [
              "<div>\n",
              "<style scoped>\n",
              "    .dataframe tbody tr th:only-of-type {\n",
              "        vertical-align: middle;\n",
              "    }\n",
              "\n",
              "    .dataframe tbody tr th {\n",
              "        vertical-align: top;\n",
              "    }\n",
              "\n",
              "    .dataframe thead th {\n",
              "        text-align: right;\n",
              "    }\n",
              "</style>\n",
              "<table border=\"1\" class=\"dataframe\">\n",
              "  <thead>\n",
              "    <tr style=\"text-align: right;\">\n",
              "      <th></th>\n",
              "      <th>alert</th>\n",
              "      <th>cdi</th>\n",
              "      <th>code</th>\n",
              "      <th>detail</th>\n",
              "      <th>dmin</th>\n",
              "      <th>felt</th>\n",
              "      <th>gap</th>\n",
              "      <th>ids</th>\n",
              "      <th>mag</th>\n",
              "      <th>magType</th>\n",
              "      <th>...</th>\n",
              "      <th>sources</th>\n",
              "      <th>status</th>\n",
              "      <th>time</th>\n",
              "      <th>title</th>\n",
              "      <th>tsunami</th>\n",
              "      <th>type</th>\n",
              "      <th>types</th>\n",
              "      <th>tz</th>\n",
              "      <th>updated</th>\n",
              "      <th>url</th>\n",
              "    </tr>\n",
              "  </thead>\n",
              "  <tbody>\n",
              "    <tr>\n",
              "      <th>837</th>\n",
              "      <td>green</td>\n",
              "      <td>4.1</td>\n",
              "      <td>1000haa3</td>\n",
              "      <td>https://earthquake.usgs.gov/fdsnws/event/1/que...</td>\n",
              "      <td>1.763</td>\n",
              "      <td>3.0</td>\n",
              "      <td>14.0</td>\n",
              "      <td>,us1000haa3,pt18283003,at00pgehsk,</td>\n",
              "      <td>7.0</td>\n",
              "      <td>mww</td>\n",
              "      <td>...</td>\n",
              "      <td>,us,pt,at,</td>\n",
              "      <td>reviewed</td>\n",
              "      <td>1539204500290</td>\n",
              "      <td>M 7.0 - 117km E of Kimbe, Papua New Guinea</td>\n",
              "      <td>1</td>\n",
              "      <td>earthquake</td>\n",
              "      <td>,dyfi,finite-fault,general-text,geoserve,groun...</td>\n",
              "      <td>600.0</td>\n",
              "      <td>1539378744253</td>\n",
              "      <td>https://earthquake.usgs.gov/earthquakes/eventp...</td>\n",
              "    </tr>\n",
              "    <tr>\n",
              "      <th>5263</th>\n",
              "      <td>red</td>\n",
              "      <td>8.4</td>\n",
              "      <td>1000h3p4</td>\n",
              "      <td>https://earthquake.usgs.gov/fdsnws/event/1/que...</td>\n",
              "      <td>1.589</td>\n",
              "      <td>18.0</td>\n",
              "      <td>27.0</td>\n",
              "      <td>,us1000h3p4,us1000h4p4,</td>\n",
              "      <td>7.5</td>\n",
              "      <td>mww</td>\n",
              "      <td>...</td>\n",
              "      <td>,us,us,</td>\n",
              "      <td>reviewed</td>\n",
              "      <td>1538128963480</td>\n",
              "      <td>M 7.5 - 78km N of Palu, Indonesia</td>\n",
              "      <td>1</td>\n",
              "      <td>earthquake</td>\n",
              "      <td>,dyfi,finite-fault,general-text,geoserve,groun...</td>\n",
              "      <td>480.0</td>\n",
              "      <td>1539123134531</td>\n",
              "      <td>https://earthquake.usgs.gov/earthquakes/eventp...</td>\n",
              "    </tr>\n",
              "  </tbody>\n",
              "</table>\n",
              "<p>2 rows × 26 columns</p>\n",
              "</div>"
            ],
            "text/plain": [
              "      alert  cdi      code                                             detail  \\\n",
              "837   green  4.1  1000haa3  https://earthquake.usgs.gov/fdsnws/event/1/que...   \n",
              "5263    red  8.4  1000h3p4  https://earthquake.usgs.gov/fdsnws/event/1/que...   \n",
              "\n",
              "       dmin  felt   gap                                 ids  mag magType  ...  \\\n",
              "837   1.763   3.0  14.0  ,us1000haa3,pt18283003,at00pgehsk,  7.0     mww  ...   \n",
              "5263  1.589  18.0  27.0             ,us1000h3p4,us1000h4p4,  7.5     mww  ...   \n",
              "\n",
              "         sources    status           time  \\\n",
              "837   ,us,pt,at,  reviewed  1539204500290   \n",
              "5263     ,us,us,  reviewed  1538128963480   \n",
              "\n",
              "                                           title  tsunami        type  \\\n",
              "837   M 7.0 - 117km E of Kimbe, Papua New Guinea        1  earthquake   \n",
              "5263           M 7.5 - 78km N of Palu, Indonesia        1  earthquake   \n",
              "\n",
              "                                                  types     tz        updated  \\\n",
              "837   ,dyfi,finite-fault,general-text,geoserve,groun...  600.0  1539378744253   \n",
              "5263  ,dyfi,finite-fault,general-text,geoserve,groun...  480.0  1539123134531   \n",
              "\n",
              "                                                    url  \n",
              "837   https://earthquake.usgs.gov/earthquakes/eventp...  \n",
              "5263  https://earthquake.usgs.gov/earthquakes/eventp...  \n",
              "\n",
              "[2 rows x 26 columns]"
            ]
          },
          "execution_count": 23,
          "metadata": {},
          "output_type": "execute_result"
        }
      ],
      "source": [
        "df[df.mag >= 7.0]"
      ]
    },
    {
      "cell_type": "markdown",
      "metadata": {
        "id": "Z-faxV6u1yDh"
      },
      "source": [
        "We can use masks with `loc`:"
      ]
    },
    {
      "cell_type": "code",
      "execution_count": null,
      "metadata": {
        "id": "RZgSdc4H1yDh",
        "outputId": "7c7fbf8f-67fc-4241-fcf5-794d6b93dda7"
      },
      "outputs": [
        {
          "data": {
            "text/html": [
              "<div>\n",
              "<style scoped>\n",
              "    .dataframe tbody tr th:only-of-type {\n",
              "        vertical-align: middle;\n",
              "    }\n",
              "\n",
              "    .dataframe tbody tr th {\n",
              "        vertical-align: top;\n",
              "    }\n",
              "\n",
              "    .dataframe thead th {\n",
              "        text-align: right;\n",
              "    }\n",
              "</style>\n",
              "<table border=\"1\" class=\"dataframe\">\n",
              "  <thead>\n",
              "    <tr style=\"text-align: right;\">\n",
              "      <th></th>\n",
              "      <th>alert</th>\n",
              "      <th>mag</th>\n",
              "      <th>magType</th>\n",
              "      <th>title</th>\n",
              "      <th>tsunami</th>\n",
              "      <th>type</th>\n",
              "    </tr>\n",
              "  </thead>\n",
              "  <tbody>\n",
              "    <tr>\n",
              "      <th>837</th>\n",
              "      <td>green</td>\n",
              "      <td>7.0</td>\n",
              "      <td>mww</td>\n",
              "      <td>M 7.0 - 117km E of Kimbe, Papua New Guinea</td>\n",
              "      <td>1</td>\n",
              "      <td>earthquake</td>\n",
              "    </tr>\n",
              "    <tr>\n",
              "      <th>5263</th>\n",
              "      <td>red</td>\n",
              "      <td>7.5</td>\n",
              "      <td>mww</td>\n",
              "      <td>M 7.5 - 78km N of Palu, Indonesia</td>\n",
              "      <td>1</td>\n",
              "      <td>earthquake</td>\n",
              "    </tr>\n",
              "  </tbody>\n",
              "</table>\n",
              "</div>"
            ],
            "text/plain": [
              "      alert  mag magType                                       title  tsunami  \\\n",
              "837   green  7.0     mww  M 7.0 - 117km E of Kimbe, Papua New Guinea        1   \n",
              "5263    red  7.5     mww           M 7.5 - 78km N of Palu, Indonesia        1   \n",
              "\n",
              "            type  \n",
              "837   earthquake  \n",
              "5263  earthquake  "
            ]
          },
          "execution_count": 24,
          "metadata": {},
          "output_type": "execute_result"
        }
      ],
      "source": [
        "df.loc[\n",
        "    df.mag >= 7.0,\n",
        "    ['alert', 'mag', 'magType', 'title', 'tsunami', 'type']\n",
        "]"
      ]
    },
    {
      "cell_type": "markdown",
      "metadata": {
        "id": "RMV36I_11yDh"
      },
      "source": [
        "Masks can be created using multiple criteria when combined with bitwise operators `&` for AND and `|` for OR. We must also surround each criterion with parentheses. We can't use `and`/`or` here because we need to evaluate row by row:"
      ]
    },
    {
      "cell_type": "code",
      "execution_count": null,
      "metadata": {
        "id": "I8e3QjZ51yDh",
        "outputId": "36849dc4-eba7-4850-b7e3-b6cd60c61a0f"
      },
      "outputs": [
        {
          "data": {
            "text/html": [
              "<div>\n",
              "<style scoped>\n",
              "    .dataframe tbody tr th:only-of-type {\n",
              "        vertical-align: middle;\n",
              "    }\n",
              "\n",
              "    .dataframe tbody tr th {\n",
              "        vertical-align: top;\n",
              "    }\n",
              "\n",
              "    .dataframe thead th {\n",
              "        text-align: right;\n",
              "    }\n",
              "</style>\n",
              "<table border=\"1\" class=\"dataframe\">\n",
              "  <thead>\n",
              "    <tr style=\"text-align: right;\">\n",
              "      <th></th>\n",
              "      <th>alert</th>\n",
              "      <th>mag</th>\n",
              "      <th>magType</th>\n",
              "      <th>title</th>\n",
              "      <th>tsunami</th>\n",
              "      <th>type</th>\n",
              "    </tr>\n",
              "  </thead>\n",
              "  <tbody>\n",
              "    <tr>\n",
              "      <th>5263</th>\n",
              "      <td>red</td>\n",
              "      <td>7.5</td>\n",
              "      <td>mww</td>\n",
              "      <td>M 7.5 - 78km N of Palu, Indonesia</td>\n",
              "      <td>1</td>\n",
              "      <td>earthquake</td>\n",
              "    </tr>\n",
              "  </tbody>\n",
              "</table>\n",
              "</div>"
            ],
            "text/plain": [
              "     alert  mag magType                              title  tsunami  \\\n",
              "5263   red  7.5     mww  M 7.5 - 78km N of Palu, Indonesia        1   \n",
              "\n",
              "            type  \n",
              "5263  earthquake  "
            ]
          },
          "execution_count": 25,
          "metadata": {},
          "output_type": "execute_result"
        }
      ],
      "source": [
        "df.loc[\n",
        "    (df.tsunami == 1) & (df.alert == 'red'),\n",
        "    ['alert', 'mag', 'magType', 'title', 'tsunami', 'type']\n",
        "]"
      ]
    },
    {
      "cell_type": "markdown",
      "metadata": {
        "id": "QOqhfB6e1yDi"
      },
      "source": [
        "An example with an OR condition, which is less restrictive:"
      ]
    },
    {
      "cell_type": "code",
      "execution_count": null,
      "metadata": {
        "id": "DZeCQe0x1yDi",
        "outputId": "7fda82d1-dd92-44a1-9bf8-bc333bf2cdeb"
      },
      "outputs": [
        {
          "data": {
            "text/html": [
              "<div>\n",
              "<style scoped>\n",
              "    .dataframe tbody tr th:only-of-type {\n",
              "        vertical-align: middle;\n",
              "    }\n",
              "\n",
              "    .dataframe tbody tr th {\n",
              "        vertical-align: top;\n",
              "    }\n",
              "\n",
              "    .dataframe thead th {\n",
              "        text-align: right;\n",
              "    }\n",
              "</style>\n",
              "<table border=\"1\" class=\"dataframe\">\n",
              "  <thead>\n",
              "    <tr style=\"text-align: right;\">\n",
              "      <th></th>\n",
              "      <th>alert</th>\n",
              "      <th>mag</th>\n",
              "      <th>magType</th>\n",
              "      <th>title</th>\n",
              "      <th>tsunami</th>\n",
              "      <th>type</th>\n",
              "    </tr>\n",
              "  </thead>\n",
              "  <tbody>\n",
              "    <tr>\n",
              "      <th>36</th>\n",
              "      <td>NaN</td>\n",
              "      <td>5.0</td>\n",
              "      <td>mww</td>\n",
              "      <td>M 5.0 - 165km NNW of Flying Fish Cove, Christm...</td>\n",
              "      <td>1</td>\n",
              "      <td>earthquake</td>\n",
              "    </tr>\n",
              "    <tr>\n",
              "      <th>118</th>\n",
              "      <td>green</td>\n",
              "      <td>6.7</td>\n",
              "      <td>mww</td>\n",
              "      <td>M 6.7 - 262km NW of Ozernovskiy, Russia</td>\n",
              "      <td>1</td>\n",
              "      <td>earthquake</td>\n",
              "    </tr>\n",
              "    <tr>\n",
              "      <th>501</th>\n",
              "      <td>green</td>\n",
              "      <td>5.6</td>\n",
              "      <td>mww</td>\n",
              "      <td>M 5.6 - 128km SE of Kimbe, Papua New Guinea</td>\n",
              "      <td>1</td>\n",
              "      <td>earthquake</td>\n",
              "    </tr>\n",
              "    <tr>\n",
              "      <th>799</th>\n",
              "      <td>green</td>\n",
              "      <td>6.5</td>\n",
              "      <td>mww</td>\n",
              "      <td>M 6.5 - 148km S of Severo-Kuril'sk, Russia</td>\n",
              "      <td>1</td>\n",
              "      <td>earthquake</td>\n",
              "    </tr>\n",
              "    <tr>\n",
              "      <th>816</th>\n",
              "      <td>green</td>\n",
              "      <td>6.2</td>\n",
              "      <td>mww</td>\n",
              "      <td>M 6.2 - 94km SW of Kokopo, Papua New Guinea</td>\n",
              "      <td>1</td>\n",
              "      <td>earthquake</td>\n",
              "    </tr>\n",
              "    <tr>\n",
              "      <th>...</th>\n",
              "      <td>...</td>\n",
              "      <td>...</td>\n",
              "      <td>...</td>\n",
              "      <td>...</td>\n",
              "      <td>...</td>\n",
              "      <td>...</td>\n",
              "    </tr>\n",
              "    <tr>\n",
              "      <th>8561</th>\n",
              "      <td>NaN</td>\n",
              "      <td>5.4</td>\n",
              "      <td>mb</td>\n",
              "      <td>M 5.4 - 228km S of Taron, Papua New Guinea</td>\n",
              "      <td>1</td>\n",
              "      <td>earthquake</td>\n",
              "    </tr>\n",
              "    <tr>\n",
              "      <th>8624</th>\n",
              "      <td>NaN</td>\n",
              "      <td>5.1</td>\n",
              "      <td>mb</td>\n",
              "      <td>M 5.1 - 278km SE of Pondaguitan, Philippines</td>\n",
              "      <td>1</td>\n",
              "      <td>earthquake</td>\n",
              "    </tr>\n",
              "    <tr>\n",
              "      <th>9133</th>\n",
              "      <td>green</td>\n",
              "      <td>5.1</td>\n",
              "      <td>ml</td>\n",
              "      <td>M 5.1 - 64km SSW of Kaktovik, Alaska</td>\n",
              "      <td>1</td>\n",
              "      <td>earthquake</td>\n",
              "    </tr>\n",
              "    <tr>\n",
              "      <th>9175</th>\n",
              "      <td>NaN</td>\n",
              "      <td>5.2</td>\n",
              "      <td>mb</td>\n",
              "      <td>M 5.2 - 126km N of Dili, East Timor</td>\n",
              "      <td>1</td>\n",
              "      <td>earthquake</td>\n",
              "    </tr>\n",
              "    <tr>\n",
              "      <th>9304</th>\n",
              "      <td>NaN</td>\n",
              "      <td>5.1</td>\n",
              "      <td>mb</td>\n",
              "      <td>M 5.1 - 34km NW of Finschhafen, Papua New Guinea</td>\n",
              "      <td>1</td>\n",
              "      <td>earthquake</td>\n",
              "    </tr>\n",
              "  </tbody>\n",
              "</table>\n",
              "<p>61 rows × 6 columns</p>\n",
              "</div>"
            ],
            "text/plain": [
              "      alert  mag magType                                              title  \\\n",
              "36      NaN  5.0     mww  M 5.0 - 165km NNW of Flying Fish Cove, Christm...   \n",
              "118   green  6.7     mww            M 6.7 - 262km NW of Ozernovskiy, Russia   \n",
              "501   green  5.6     mww        M 5.6 - 128km SE of Kimbe, Papua New Guinea   \n",
              "799   green  6.5     mww         M 6.5 - 148km S of Severo-Kuril'sk, Russia   \n",
              "816   green  6.2     mww        M 6.2 - 94km SW of Kokopo, Papua New Guinea   \n",
              "...     ...  ...     ...                                                ...   \n",
              "8561    NaN  5.4      mb         M 5.4 - 228km S of Taron, Papua New Guinea   \n",
              "8624    NaN  5.1      mb       M 5.1 - 278km SE of Pondaguitan, Philippines   \n",
              "9133  green  5.1      ml               M 5.1 - 64km SSW of Kaktovik, Alaska   \n",
              "9175    NaN  5.2      mb                M 5.2 - 126km N of Dili, East Timor   \n",
              "9304    NaN  5.1      mb   M 5.1 - 34km NW of Finschhafen, Papua New Guinea   \n",
              "\n",
              "      tsunami        type  \n",
              "36          1  earthquake  \n",
              "118         1  earthquake  \n",
              "501         1  earthquake  \n",
              "799         1  earthquake  \n",
              "816         1  earthquake  \n",
              "...       ...         ...  \n",
              "8561        1  earthquake  \n",
              "8624        1  earthquake  \n",
              "9133        1  earthquake  \n",
              "9175        1  earthquake  \n",
              "9304        1  earthquake  \n",
              "\n",
              "[61 rows x 6 columns]"
            ]
          },
          "execution_count": 26,
          "metadata": {},
          "output_type": "execute_result"
        }
      ],
      "source": [
        "df.loc[\n",
        "    (df.tsunami == 1) | (df.alert == 'red'),\n",
        "    ['alert', 'mag', 'magType', 'title', 'tsunami', 'type']\n",
        "]"
      ]
    },
    {
      "cell_type": "markdown",
      "metadata": {
        "id": "8-Z26y891yDj"
      },
      "source": [
        "Masks can be created from any criteria that results in a Boolean. For example, we can select all earthquakes with the string `Alaska` in the `place` column with a non-null value for the `alert` column. To get non-nulls, we can use the `isnull()` method with the bitwise negation operator (`~`) or the `notnull()` method:"
      ]
    },
    {
      "cell_type": "code",
      "execution_count": null,
      "metadata": {
        "id": "dYP_h4SE1yDj",
        "outputId": "b22d6226-a8cd-4c60-8896-0ae4ba43bf46"
      },
      "outputs": [
        {
          "data": {
            "text/html": [
              "<div>\n",
              "<style scoped>\n",
              "    .dataframe tbody tr th:only-of-type {\n",
              "        vertical-align: middle;\n",
              "    }\n",
              "\n",
              "    .dataframe tbody tr th {\n",
              "        vertical-align: top;\n",
              "    }\n",
              "\n",
              "    .dataframe thead th {\n",
              "        text-align: right;\n",
              "    }\n",
              "</style>\n",
              "<table border=\"1\" class=\"dataframe\">\n",
              "  <thead>\n",
              "    <tr style=\"text-align: right;\">\n",
              "      <th></th>\n",
              "      <th>alert</th>\n",
              "      <th>mag</th>\n",
              "      <th>magType</th>\n",
              "      <th>title</th>\n",
              "      <th>tsunami</th>\n",
              "      <th>type</th>\n",
              "    </tr>\n",
              "  </thead>\n",
              "  <tbody>\n",
              "    <tr>\n",
              "      <th>1015</th>\n",
              "      <td>green</td>\n",
              "      <td>5.0</td>\n",
              "      <td>ml</td>\n",
              "      <td>M 5.0 - 61km SSW of Chignik Lake, Alaska</td>\n",
              "      <td>1</td>\n",
              "      <td>earthquake</td>\n",
              "    </tr>\n",
              "    <tr>\n",
              "      <th>1273</th>\n",
              "      <td>green</td>\n",
              "      <td>4.0</td>\n",
              "      <td>ml</td>\n",
              "      <td>M 4.0 - 71km SW of Kaktovik, Alaska</td>\n",
              "      <td>1</td>\n",
              "      <td>earthquake</td>\n",
              "    </tr>\n",
              "    <tr>\n",
              "      <th>1795</th>\n",
              "      <td>green</td>\n",
              "      <td>4.0</td>\n",
              "      <td>ml</td>\n",
              "      <td>M 4.0 - 60km WNW of Valdez, Alaska</td>\n",
              "      <td>1</td>\n",
              "      <td>earthquake</td>\n",
              "    </tr>\n",
              "    <tr>\n",
              "      <th>2752</th>\n",
              "      <td>green</td>\n",
              "      <td>4.0</td>\n",
              "      <td>ml</td>\n",
              "      <td>M 4.0 - 67km SSW of Kaktovik, Alaska</td>\n",
              "      <td>1</td>\n",
              "      <td>earthquake</td>\n",
              "    </tr>\n",
              "    <tr>\n",
              "      <th>3260</th>\n",
              "      <td>green</td>\n",
              "      <td>3.9</td>\n",
              "      <td>ml</td>\n",
              "      <td>M 3.9 - 44km N of North Nenana, Alaska</td>\n",
              "      <td>0</td>\n",
              "      <td>earthquake</td>\n",
              "    </tr>\n",
              "    <tr>\n",
              "      <th>4101</th>\n",
              "      <td>green</td>\n",
              "      <td>4.2</td>\n",
              "      <td>ml</td>\n",
              "      <td>M 4.2 - 131km NNW of Arctic Village, Alaska</td>\n",
              "      <td>0</td>\n",
              "      <td>earthquake</td>\n",
              "    </tr>\n",
              "    <tr>\n",
              "      <th>6897</th>\n",
              "      <td>green</td>\n",
              "      <td>3.8</td>\n",
              "      <td>ml</td>\n",
              "      <td>M 3.8 - 80km SSW of Kaktovik, Alaska</td>\n",
              "      <td>0</td>\n",
              "      <td>earthquake</td>\n",
              "    </tr>\n",
              "    <tr>\n",
              "      <th>8524</th>\n",
              "      <td>green</td>\n",
              "      <td>3.8</td>\n",
              "      <td>ml</td>\n",
              "      <td>M 3.8 - 69km SSW of Kaktovik, Alaska</td>\n",
              "      <td>0</td>\n",
              "      <td>earthquake</td>\n",
              "    </tr>\n",
              "    <tr>\n",
              "      <th>9133</th>\n",
              "      <td>green</td>\n",
              "      <td>5.1</td>\n",
              "      <td>ml</td>\n",
              "      <td>M 5.1 - 64km SSW of Kaktovik, Alaska</td>\n",
              "      <td>1</td>\n",
              "      <td>earthquake</td>\n",
              "    </tr>\n",
              "  </tbody>\n",
              "</table>\n",
              "</div>"
            ],
            "text/plain": [
              "      alert  mag magType                                        title  \\\n",
              "1015  green  5.0      ml     M 5.0 - 61km SSW of Chignik Lake, Alaska   \n",
              "1273  green  4.0      ml          M 4.0 - 71km SW of Kaktovik, Alaska   \n",
              "1795  green  4.0      ml           M 4.0 - 60km WNW of Valdez, Alaska   \n",
              "2752  green  4.0      ml         M 4.0 - 67km SSW of Kaktovik, Alaska   \n",
              "3260  green  3.9      ml       M 3.9 - 44km N of North Nenana, Alaska   \n",
              "4101  green  4.2      ml  M 4.2 - 131km NNW of Arctic Village, Alaska   \n",
              "6897  green  3.8      ml         M 3.8 - 80km SSW of Kaktovik, Alaska   \n",
              "8524  green  3.8      ml         M 3.8 - 69km SSW of Kaktovik, Alaska   \n",
              "9133  green  5.1      ml         M 5.1 - 64km SSW of Kaktovik, Alaska   \n",
              "\n",
              "      tsunami        type  \n",
              "1015        1  earthquake  \n",
              "1273        1  earthquake  \n",
              "1795        1  earthquake  \n",
              "2752        1  earthquake  \n",
              "3260        0  earthquake  \n",
              "4101        0  earthquake  \n",
              "6897        0  earthquake  \n",
              "8524        0  earthquake  \n",
              "9133        1  earthquake  "
            ]
          },
          "execution_count": 27,
          "metadata": {},
          "output_type": "execute_result"
        }
      ],
      "source": [
        "df.loc[\n",
        "    (df.place.str.contains('Alaska')) & (df.alert.notnull()),\n",
        "    ['alert', 'mag', 'magType', 'title', 'tsunami', 'type']\n",
        "]"
      ]
    },
    {
      "cell_type": "markdown",
      "metadata": {
        "id": "XQsYFQVE1yDj"
      },
      "source": [
        "We can even use regular expressions here:"
      ]
    },
    {
      "cell_type": "code",
      "execution_count": null,
      "metadata": {
        "id": "ArOF6iph1yDj",
        "outputId": "792f1941-7205-4c36-caf8-f061b89e6eb6"
      },
      "outputs": [
        {
          "data": {
            "text/html": [
              "<div>\n",
              "<style scoped>\n",
              "    .dataframe tbody tr th:only-of-type {\n",
              "        vertical-align: middle;\n",
              "    }\n",
              "\n",
              "    .dataframe tbody tr th {\n",
              "        vertical-align: top;\n",
              "    }\n",
              "\n",
              "    .dataframe thead th {\n",
              "        text-align: right;\n",
              "    }\n",
              "</style>\n",
              "<table border=\"1\" class=\"dataframe\">\n",
              "  <thead>\n",
              "    <tr style=\"text-align: right;\">\n",
              "      <th></th>\n",
              "      <th>alert</th>\n",
              "      <th>mag</th>\n",
              "      <th>magType</th>\n",
              "      <th>title</th>\n",
              "      <th>tsunami</th>\n",
              "      <th>type</th>\n",
              "    </tr>\n",
              "  </thead>\n",
              "  <tbody>\n",
              "    <tr>\n",
              "      <th>1465</th>\n",
              "      <td>green</td>\n",
              "      <td>3.83</td>\n",
              "      <td>mw</td>\n",
              "      <td>M 3.8 - 109km WNW of Trinidad, CA</td>\n",
              "      <td>0</td>\n",
              "      <td>earthquake</td>\n",
              "    </tr>\n",
              "    <tr>\n",
              "      <th>2414</th>\n",
              "      <td>green</td>\n",
              "      <td>3.83</td>\n",
              "      <td>mw</td>\n",
              "      <td>M 3.8 - 5km SW of Tres Pinos, CA</td>\n",
              "      <td>1</td>\n",
              "      <td>earthquake</td>\n",
              "    </tr>\n",
              "  </tbody>\n",
              "</table>\n",
              "</div>"
            ],
            "text/plain": [
              "      alert   mag magType                              title  tsunami  \\\n",
              "1465  green  3.83      mw  M 3.8 - 109km WNW of Trinidad, CA        0   \n",
              "2414  green  3.83      mw   M 3.8 - 5km SW of Tres Pinos, CA        1   \n",
              "\n",
              "            type  \n",
              "1465  earthquake  \n",
              "2414  earthquake  "
            ]
          },
          "execution_count": 28,
          "metadata": {},
          "output_type": "execute_result"
        }
      ],
      "source": [
        "df.loc[\n",
        "    (df.place.str.contains(r'CA|California$')) & (df.mag > 3.8),\n",
        "    ['alert', 'mag', 'magType', 'title', 'tsunami', 'type']\n",
        "]"
      ]
    },
    {
      "cell_type": "markdown",
      "metadata": {
        "id": "kS5ZPbFv1yDk"
      },
      "source": [
        "We can use the `between()` method to turn 2 individual checks (is less than or equal to some maximum value and is greater than or equal to some minimum value) into a single one. Note this is inclusive of the endpoint by default:"
      ]
    },
    {
      "cell_type": "code",
      "execution_count": null,
      "metadata": {
        "id": "Aa6WQvCE1yDk",
        "outputId": "b2c0919b-3bb3-4b77-bffc-362a14c854fc"
      },
      "outputs": [
        {
          "data": {
            "text/html": [
              "<div>\n",
              "<style scoped>\n",
              "    .dataframe tbody tr th:only-of-type {\n",
              "        vertical-align: middle;\n",
              "    }\n",
              "\n",
              "    .dataframe tbody tr th {\n",
              "        vertical-align: top;\n",
              "    }\n",
              "\n",
              "    .dataframe thead th {\n",
              "        text-align: right;\n",
              "    }\n",
              "</style>\n",
              "<table border=\"1\" class=\"dataframe\">\n",
              "  <thead>\n",
              "    <tr style=\"text-align: right;\">\n",
              "      <th></th>\n",
              "      <th>alert</th>\n",
              "      <th>mag</th>\n",
              "      <th>magType</th>\n",
              "      <th>title</th>\n",
              "      <th>tsunami</th>\n",
              "      <th>type</th>\n",
              "    </tr>\n",
              "  </thead>\n",
              "  <tbody>\n",
              "    <tr>\n",
              "      <th>118</th>\n",
              "      <td>green</td>\n",
              "      <td>6.7</td>\n",
              "      <td>mww</td>\n",
              "      <td>M 6.7 - 262km NW of Ozernovskiy, Russia</td>\n",
              "      <td>1</td>\n",
              "      <td>earthquake</td>\n",
              "    </tr>\n",
              "    <tr>\n",
              "      <th>799</th>\n",
              "      <td>green</td>\n",
              "      <td>6.5</td>\n",
              "      <td>mww</td>\n",
              "      <td>M 6.5 - 148km S of Severo-Kuril'sk, Russia</td>\n",
              "      <td>1</td>\n",
              "      <td>earthquake</td>\n",
              "    </tr>\n",
              "    <tr>\n",
              "      <th>837</th>\n",
              "      <td>green</td>\n",
              "      <td>7.0</td>\n",
              "      <td>mww</td>\n",
              "      <td>M 7.0 - 117km E of Kimbe, Papua New Guinea</td>\n",
              "      <td>1</td>\n",
              "      <td>earthquake</td>\n",
              "    </tr>\n",
              "    <tr>\n",
              "      <th>4363</th>\n",
              "      <td>green</td>\n",
              "      <td>6.7</td>\n",
              "      <td>mww</td>\n",
              "      <td>M 6.7 - 263km NNE of Ndoi Island, Fiji</td>\n",
              "      <td>1</td>\n",
              "      <td>earthquake</td>\n",
              "    </tr>\n",
              "    <tr>\n",
              "      <th>5263</th>\n",
              "      <td>red</td>\n",
              "      <td>7.5</td>\n",
              "      <td>mww</td>\n",
              "      <td>M 7.5 - 78km N of Palu, Indonesia</td>\n",
              "      <td>1</td>\n",
              "      <td>earthquake</td>\n",
              "    </tr>\n",
              "  </tbody>\n",
              "</table>\n",
              "</div>"
            ],
            "text/plain": [
              "      alert  mag magType                                       title  tsunami  \\\n",
              "118   green  6.7     mww     M 6.7 - 262km NW of Ozernovskiy, Russia        1   \n",
              "799   green  6.5     mww  M 6.5 - 148km S of Severo-Kuril'sk, Russia        1   \n",
              "837   green  7.0     mww  M 7.0 - 117km E of Kimbe, Papua New Guinea        1   \n",
              "4363  green  6.7     mww      M 6.7 - 263km NNE of Ndoi Island, Fiji        1   \n",
              "5263    red  7.5     mww           M 7.5 - 78km N of Palu, Indonesia        1   \n",
              "\n",
              "            type  \n",
              "118   earthquake  \n",
              "799   earthquake  \n",
              "837   earthquake  \n",
              "4363  earthquake  \n",
              "5263  earthquake  "
            ]
          },
          "execution_count": 29,
          "metadata": {},
          "output_type": "execute_result"
        }
      ],
      "source": [
        "df.loc[\n",
        "    df.mag.between(6.5, 7.5),\n",
        "    ['alert', 'mag', 'magType', 'title', 'tsunami', 'type']\n",
        "]"
      ]
    },
    {
      "cell_type": "markdown",
      "metadata": {
        "id": "ERkbfr_41yDl"
      },
      "source": [
        "We can use the `isin()` method to check for membership in a list of values:"
      ]
    },
    {
      "cell_type": "code",
      "execution_count": null,
      "metadata": {
        "id": "LOWlt44O1yDl",
        "outputId": "d6d2e286-ec84-46f9-a7d1-29604acd4f1c"
      },
      "outputs": [
        {
          "data": {
            "text/html": [
              "<div>\n",
              "<style scoped>\n",
              "    .dataframe tbody tr th:only-of-type {\n",
              "        vertical-align: middle;\n",
              "    }\n",
              "\n",
              "    .dataframe tbody tr th {\n",
              "        vertical-align: top;\n",
              "    }\n",
              "\n",
              "    .dataframe thead th {\n",
              "        text-align: right;\n",
              "    }\n",
              "</style>\n",
              "<table border=\"1\" class=\"dataframe\">\n",
              "  <thead>\n",
              "    <tr style=\"text-align: right;\">\n",
              "      <th></th>\n",
              "      <th>alert</th>\n",
              "      <th>mag</th>\n",
              "      <th>magType</th>\n",
              "      <th>title</th>\n",
              "      <th>tsunami</th>\n",
              "      <th>type</th>\n",
              "    </tr>\n",
              "  </thead>\n",
              "  <tbody>\n",
              "    <tr>\n",
              "      <th>995</th>\n",
              "      <td>NaN</td>\n",
              "      <td>3.35</td>\n",
              "      <td>mw</td>\n",
              "      <td>M 3.4 - 9km WNW of Cobb, CA</td>\n",
              "      <td>0</td>\n",
              "      <td>earthquake</td>\n",
              "    </tr>\n",
              "    <tr>\n",
              "      <th>1465</th>\n",
              "      <td>green</td>\n",
              "      <td>3.83</td>\n",
              "      <td>mw</td>\n",
              "      <td>M 3.8 - 109km WNW of Trinidad, CA</td>\n",
              "      <td>0</td>\n",
              "      <td>earthquake</td>\n",
              "    </tr>\n",
              "    <tr>\n",
              "      <th>2414</th>\n",
              "      <td>green</td>\n",
              "      <td>3.83</td>\n",
              "      <td>mw</td>\n",
              "      <td>M 3.8 - 5km SW of Tres Pinos, CA</td>\n",
              "      <td>1</td>\n",
              "      <td>earthquake</td>\n",
              "    </tr>\n",
              "    <tr>\n",
              "      <th>4988</th>\n",
              "      <td>green</td>\n",
              "      <td>4.41</td>\n",
              "      <td>mw</td>\n",
              "      <td>M 4.4 - 1km SE of Delta, B.C., MX</td>\n",
              "      <td>1</td>\n",
              "      <td>earthquake</td>\n",
              "    </tr>\n",
              "    <tr>\n",
              "      <th>6307</th>\n",
              "      <td>green</td>\n",
              "      <td>5.80</td>\n",
              "      <td>mwb</td>\n",
              "      <td>M 5.8 - 297km NNE of Ndoi Island, Fiji</td>\n",
              "      <td>0</td>\n",
              "      <td>earthquake</td>\n",
              "    </tr>\n",
              "    <tr>\n",
              "      <th>8257</th>\n",
              "      <td>green</td>\n",
              "      <td>5.70</td>\n",
              "      <td>mwb</td>\n",
              "      <td>M 5.7 - 175km SSE of Lambasa, Fiji</td>\n",
              "      <td>0</td>\n",
              "      <td>earthquake</td>\n",
              "    </tr>\n",
              "  </tbody>\n",
              "</table>\n",
              "</div>"
            ],
            "text/plain": [
              "      alert   mag magType                                   title  tsunami  \\\n",
              "995     NaN  3.35      mw             M 3.4 - 9km WNW of Cobb, CA        0   \n",
              "1465  green  3.83      mw       M 3.8 - 109km WNW of Trinidad, CA        0   \n",
              "2414  green  3.83      mw        M 3.8 - 5km SW of Tres Pinos, CA        1   \n",
              "4988  green  4.41      mw       M 4.4 - 1km SE of Delta, B.C., MX        1   \n",
              "6307  green  5.80     mwb  M 5.8 - 297km NNE of Ndoi Island, Fiji        0   \n",
              "8257  green  5.70     mwb      M 5.7 - 175km SSE of Lambasa, Fiji        0   \n",
              "\n",
              "            type  \n",
              "995   earthquake  \n",
              "1465  earthquake  \n",
              "2414  earthquake  \n",
              "4988  earthquake  \n",
              "6307  earthquake  \n",
              "8257  earthquake  "
            ]
          },
          "execution_count": 30,
          "metadata": {},
          "output_type": "execute_result"
        }
      ],
      "source": [
        "df.loc[\n",
        "    df.magType.isin(['mw', 'mwb']),\n",
        "    ['alert', 'mag', 'magType', 'title', 'tsunami', 'type']\n",
        "]"
      ]
    },
    {
      "cell_type": "markdown",
      "metadata": {
        "id": "ThomiriO1yDm"
      },
      "source": [
        "We can grab the index of the minimum and maximum values of a given column and use those to select the entire row where they occur:"
      ]
    },
    {
      "cell_type": "code",
      "execution_count": null,
      "metadata": {
        "id": "xOVuGvsE1yDm",
        "outputId": "0122d80d-a4ea-43d4-cd86-b34054aa06d9"
      },
      "outputs": [
        {
          "data": {
            "text/plain": [
              "[2409, 5263]"
            ]
          },
          "execution_count": 31,
          "metadata": {},
          "output_type": "execute_result"
        }
      ],
      "source": [
        "[df.mag.idxmin(), df.mag.idxmax()]"
      ]
    },
    {
      "cell_type": "code",
      "execution_count": null,
      "metadata": {
        "id": "BulMyNNp1yDm",
        "outputId": "df0b40d1-e153-40c5-f731-18d9127b37e7"
      },
      "outputs": [
        {
          "data": {
            "text/html": [
              "<div>\n",
              "<style scoped>\n",
              "    .dataframe tbody tr th:only-of-type {\n",
              "        vertical-align: middle;\n",
              "    }\n",
              "\n",
              "    .dataframe tbody tr th {\n",
              "        vertical-align: top;\n",
              "    }\n",
              "\n",
              "    .dataframe thead th {\n",
              "        text-align: right;\n",
              "    }\n",
              "</style>\n",
              "<table border=\"1\" class=\"dataframe\">\n",
              "  <thead>\n",
              "    <tr style=\"text-align: right;\">\n",
              "      <th></th>\n",
              "      <th>alert</th>\n",
              "      <th>mag</th>\n",
              "      <th>magType</th>\n",
              "      <th>title</th>\n",
              "      <th>tsunami</th>\n",
              "      <th>type</th>\n",
              "    </tr>\n",
              "  </thead>\n",
              "  <tbody>\n",
              "    <tr>\n",
              "      <th>2409</th>\n",
              "      <td>NaN</td>\n",
              "      <td>-1.26</td>\n",
              "      <td>ml</td>\n",
              "      <td>M -1.3 - 41km ENE of Adak, Alaska</td>\n",
              "      <td>0</td>\n",
              "      <td>earthquake</td>\n",
              "    </tr>\n",
              "    <tr>\n",
              "      <th>5263</th>\n",
              "      <td>red</td>\n",
              "      <td>7.50</td>\n",
              "      <td>mww</td>\n",
              "      <td>M 7.5 - 78km N of Palu, Indonesia</td>\n",
              "      <td>1</td>\n",
              "      <td>earthquake</td>\n",
              "    </tr>\n",
              "  </tbody>\n",
              "</table>\n",
              "</div>"
            ],
            "text/plain": [
              "     alert   mag magType                              title  tsunami  \\\n",
              "2409   NaN -1.26      ml  M -1.3 - 41km ENE of Adak, Alaska        0   \n",
              "5263   red  7.50     mww  M 7.5 - 78km N of Palu, Indonesia        1   \n",
              "\n",
              "            type  \n",
              "2409  earthquake  \n",
              "5263  earthquake  "
            ]
          },
          "execution_count": 32,
          "metadata": {},
          "output_type": "execute_result"
        }
      ],
      "source": [
        "df.loc[\n",
        "    [df.mag.idxmin(), df.mag.idxmax()],\n",
        "    ['alert', 'mag', 'magType', 'title', 'tsunami', 'type']\n",
        "]"
      ]
    },
    {
      "cell_type": "markdown",
      "metadata": {
        "id": "wicBTRGy1yDn"
      },
      "source": [
        "Note that there is a `filter()` method, but it doesn't filter the data in the same sense as we discussed in this section. Here are a few things you can do with this method.\n",
        "\n",
        "- grab columns of a dataframe by passing a list to `items`:"
      ]
    },
    {
      "cell_type": "code",
      "execution_count": null,
      "metadata": {
        "id": "N6m53Iyj1yDn",
        "outputId": "6dfe1e76-a7c0-41c9-cbc5-8e8dbcb1b500"
      },
      "outputs": [
        {
          "data": {
            "text/html": [
              "<div>\n",
              "<style scoped>\n",
              "    .dataframe tbody tr th:only-of-type {\n",
              "        vertical-align: middle;\n",
              "    }\n",
              "\n",
              "    .dataframe tbody tr th {\n",
              "        vertical-align: top;\n",
              "    }\n",
              "\n",
              "    .dataframe thead th {\n",
              "        text-align: right;\n",
              "    }\n",
              "</style>\n",
              "<table border=\"1\" class=\"dataframe\">\n",
              "  <thead>\n",
              "    <tr style=\"text-align: right;\">\n",
              "      <th></th>\n",
              "      <th>mag</th>\n",
              "      <th>magType</th>\n",
              "    </tr>\n",
              "  </thead>\n",
              "  <tbody>\n",
              "    <tr>\n",
              "      <th>0</th>\n",
              "      <td>1.35</td>\n",
              "      <td>ml</td>\n",
              "    </tr>\n",
              "    <tr>\n",
              "      <th>1</th>\n",
              "      <td>1.29</td>\n",
              "      <td>ml</td>\n",
              "    </tr>\n",
              "    <tr>\n",
              "      <th>2</th>\n",
              "      <td>3.42</td>\n",
              "      <td>ml</td>\n",
              "    </tr>\n",
              "    <tr>\n",
              "      <th>3</th>\n",
              "      <td>0.44</td>\n",
              "      <td>ml</td>\n",
              "    </tr>\n",
              "    <tr>\n",
              "      <th>4</th>\n",
              "      <td>2.16</td>\n",
              "      <td>md</td>\n",
              "    </tr>\n",
              "  </tbody>\n",
              "</table>\n",
              "</div>"
            ],
            "text/plain": [
              "    mag magType\n",
              "0  1.35      ml\n",
              "1  1.29      ml\n",
              "2  3.42      ml\n",
              "3  0.44      ml\n",
              "4  2.16      md"
            ]
          },
          "execution_count": 33,
          "metadata": {},
          "output_type": "execute_result"
        }
      ],
      "source": [
        "df.filter(items=['mag', 'magType']).head()"
      ]
    },
    {
      "cell_type": "markdown",
      "metadata": {
        "id": "a6SY4Phk1yDo"
      },
      "source": [
        "- grab all the columns that contain a string with the `like` parameter:"
      ]
    },
    {
      "cell_type": "code",
      "execution_count": null,
      "metadata": {
        "id": "tE0ARKey1yDo",
        "outputId": "68b2f78c-a71e-4af0-d23c-8a3c67d46b7a"
      },
      "outputs": [
        {
          "data": {
            "text/html": [
              "<div>\n",
              "<style scoped>\n",
              "    .dataframe tbody tr th:only-of-type {\n",
              "        vertical-align: middle;\n",
              "    }\n",
              "\n",
              "    .dataframe tbody tr th {\n",
              "        vertical-align: top;\n",
              "    }\n",
              "\n",
              "    .dataframe thead th {\n",
              "        text-align: right;\n",
              "    }\n",
              "</style>\n",
              "<table border=\"1\" class=\"dataframe\">\n",
              "  <thead>\n",
              "    <tr style=\"text-align: right;\">\n",
              "      <th></th>\n",
              "      <th>mag</th>\n",
              "      <th>magType</th>\n",
              "    </tr>\n",
              "  </thead>\n",
              "  <tbody>\n",
              "    <tr>\n",
              "      <th>0</th>\n",
              "      <td>1.35</td>\n",
              "      <td>ml</td>\n",
              "    </tr>\n",
              "    <tr>\n",
              "      <th>1</th>\n",
              "      <td>1.29</td>\n",
              "      <td>ml</td>\n",
              "    </tr>\n",
              "    <tr>\n",
              "      <th>2</th>\n",
              "      <td>3.42</td>\n",
              "      <td>ml</td>\n",
              "    </tr>\n",
              "    <tr>\n",
              "      <th>3</th>\n",
              "      <td>0.44</td>\n",
              "      <td>ml</td>\n",
              "    </tr>\n",
              "    <tr>\n",
              "      <th>4</th>\n",
              "      <td>2.16</td>\n",
              "      <td>md</td>\n",
              "    </tr>\n",
              "  </tbody>\n",
              "</table>\n",
              "</div>"
            ],
            "text/plain": [
              "    mag magType\n",
              "0  1.35      ml\n",
              "1  1.29      ml\n",
              "2  3.42      ml\n",
              "3  0.44      ml\n",
              "4  2.16      md"
            ]
          },
          "execution_count": 34,
          "metadata": {},
          "output_type": "execute_result"
        }
      ],
      "source": [
        "df.filter(like='mag').head()"
      ]
    },
    {
      "cell_type": "markdown",
      "metadata": {
        "id": "7q6nwVlS1yDp"
      },
      "source": [
        "- use regular expressions; here, we select any columns that start with `t`:"
      ]
    },
    {
      "cell_type": "code",
      "execution_count": null,
      "metadata": {
        "id": "zGgiwEMv1yDp",
        "outputId": "c6e894b4-7569-482f-b68a-ee0a52426203"
      },
      "outputs": [
        {
          "data": {
            "text/html": [
              "<div>\n",
              "<style scoped>\n",
              "    .dataframe tbody tr th:only-of-type {\n",
              "        vertical-align: middle;\n",
              "    }\n",
              "\n",
              "    .dataframe tbody tr th {\n",
              "        vertical-align: top;\n",
              "    }\n",
              "\n",
              "    .dataframe thead th {\n",
              "        text-align: right;\n",
              "    }\n",
              "</style>\n",
              "<table border=\"1\" class=\"dataframe\">\n",
              "  <thead>\n",
              "    <tr style=\"text-align: right;\">\n",
              "      <th></th>\n",
              "      <th>time</th>\n",
              "      <th>title</th>\n",
              "      <th>tsunami</th>\n",
              "      <th>type</th>\n",
              "      <th>types</th>\n",
              "      <th>tz</th>\n",
              "    </tr>\n",
              "  </thead>\n",
              "  <tbody>\n",
              "    <tr>\n",
              "      <th>0</th>\n",
              "      <td>1539475168010</td>\n",
              "      <td>M 1.4 - 9km NE of Aguanga, CA</td>\n",
              "      <td>0</td>\n",
              "      <td>earthquake</td>\n",
              "      <td>,geoserve,nearby-cities,origin,phase-data,</td>\n",
              "      <td>-480.0</td>\n",
              "    </tr>\n",
              "    <tr>\n",
              "      <th>1</th>\n",
              "      <td>1539475129610</td>\n",
              "      <td>M 1.3 - 9km NE of Aguanga, CA</td>\n",
              "      <td>0</td>\n",
              "      <td>earthquake</td>\n",
              "      <td>,geoserve,nearby-cities,origin,phase-data,</td>\n",
              "      <td>-480.0</td>\n",
              "    </tr>\n",
              "    <tr>\n",
              "      <th>2</th>\n",
              "      <td>1539475062610</td>\n",
              "      <td>M 3.4 - 8km NE of Aguanga, CA</td>\n",
              "      <td>0</td>\n",
              "      <td>earthquake</td>\n",
              "      <td>,dyfi,focal-mechanism,geoserve,nearby-cities,o...</td>\n",
              "      <td>-480.0</td>\n",
              "    </tr>\n",
              "    <tr>\n",
              "      <th>3</th>\n",
              "      <td>1539474978070</td>\n",
              "      <td>M 0.4 - 9km NE of Aguanga, CA</td>\n",
              "      <td>0</td>\n",
              "      <td>earthquake</td>\n",
              "      <td>,geoserve,nearby-cities,origin,phase-data,</td>\n",
              "      <td>-480.0</td>\n",
              "    </tr>\n",
              "    <tr>\n",
              "      <th>4</th>\n",
              "      <td>1539474716050</td>\n",
              "      <td>M 2.2 - 10km NW of Avenal, CA</td>\n",
              "      <td>0</td>\n",
              "      <td>earthquake</td>\n",
              "      <td>,geoserve,nearby-cities,origin,phase-data,scit...</td>\n",
              "      <td>-480.0</td>\n",
              "    </tr>\n",
              "  </tbody>\n",
              "</table>\n",
              "</div>"
            ],
            "text/plain": [
              "            time                          title  tsunami        type  \\\n",
              "0  1539475168010  M 1.4 - 9km NE of Aguanga, CA        0  earthquake   \n",
              "1  1539475129610  M 1.3 - 9km NE of Aguanga, CA        0  earthquake   \n",
              "2  1539475062610  M 3.4 - 8km NE of Aguanga, CA        0  earthquake   \n",
              "3  1539474978070  M 0.4 - 9km NE of Aguanga, CA        0  earthquake   \n",
              "4  1539474716050  M 2.2 - 10km NW of Avenal, CA        0  earthquake   \n",
              "\n",
              "                                               types     tz  \n",
              "0         ,geoserve,nearby-cities,origin,phase-data, -480.0  \n",
              "1         ,geoserve,nearby-cities,origin,phase-data, -480.0  \n",
              "2  ,dyfi,focal-mechanism,geoserve,nearby-cities,o... -480.0  \n",
              "3         ,geoserve,nearby-cities,origin,phase-data, -480.0  \n",
              "4  ,geoserve,nearby-cities,origin,phase-data,scit... -480.0  "
            ]
          },
          "execution_count": 35,
          "metadata": {},
          "output_type": "execute_result"
        }
      ],
      "source": [
        "df.filter(regex=r'^t').head()"
      ]
    },
    {
      "cell_type": "markdown",
      "metadata": {
        "id": "XV1HSU2y1yDq"
      },
      "source": [
        "- use `filter()` along the rows, by passing in `axis=0`. Here, we will use the `place` column as the index (we will cover `set_index()` in chapter 3):"
      ]
    },
    {
      "cell_type": "code",
      "execution_count": null,
      "metadata": {
        "id": "Pv7APKTh1yDq",
        "outputId": "c74a1e77-4fd2-4cd8-f3e0-aea98e97e7c4"
      },
      "outputs": [
        {
          "data": {
            "text/html": [
              "<div>\n",
              "<style scoped>\n",
              "    .dataframe tbody tr th:only-of-type {\n",
              "        vertical-align: middle;\n",
              "    }\n",
              "\n",
              "    .dataframe tbody tr th {\n",
              "        vertical-align: top;\n",
              "    }\n",
              "\n",
              "    .dataframe thead th {\n",
              "        text-align: right;\n",
              "    }\n",
              "</style>\n",
              "<table border=\"1\" class=\"dataframe\">\n",
              "  <thead>\n",
              "    <tr style=\"text-align: right;\">\n",
              "      <th></th>\n",
              "      <th>mag</th>\n",
              "      <th>magType</th>\n",
              "      <th>title</th>\n",
              "    </tr>\n",
              "    <tr>\n",
              "      <th>place</th>\n",
              "      <th></th>\n",
              "      <th></th>\n",
              "      <th></th>\n",
              "    </tr>\n",
              "  </thead>\n",
              "  <tbody>\n",
              "    <tr>\n",
              "      <th>160km NNW of Nago, Japan</th>\n",
              "      <td>4.6</td>\n",
              "      <td>mb</td>\n",
              "      <td>M 4.6 - 160km NNW of Nago, Japan</td>\n",
              "    </tr>\n",
              "    <tr>\n",
              "      <th>7km ESE of Asahi, Japan</th>\n",
              "      <td>5.2</td>\n",
              "      <td>mww</td>\n",
              "      <td>M 5.2 - 7km ESE of Asahi, Japan</td>\n",
              "    </tr>\n",
              "    <tr>\n",
              "      <th>14km E of Tomakomai, Japan</th>\n",
              "      <td>4.5</td>\n",
              "      <td>mwr</td>\n",
              "      <td>M 4.5 - 14km E of Tomakomai, Japan</td>\n",
              "    </tr>\n",
              "    <tr>\n",
              "      <th>139km WSW of Naze, Japan</th>\n",
              "      <td>4.7</td>\n",
              "      <td>mb</td>\n",
              "      <td>M 4.7 - 139km WSW of Naze, Japan</td>\n",
              "    </tr>\n",
              "    <tr>\n",
              "      <th>53km ESE of Kamaishi, Japan</th>\n",
              "      <td>4.6</td>\n",
              "      <td>mb</td>\n",
              "      <td>M 4.6 - 53km ESE of Kamaishi, Japan</td>\n",
              "    </tr>\n",
              "  </tbody>\n",
              "</table>\n",
              "</div>"
            ],
            "text/plain": [
              "                             mag magType                                title\n",
              "place                                                                        \n",
              "160km NNW of Nago, Japan     4.6      mb     M 4.6 - 160km NNW of Nago, Japan\n",
              "7km ESE of Asahi, Japan      5.2     mww      M 5.2 - 7km ESE of Asahi, Japan\n",
              "14km E of Tomakomai, Japan   4.5     mwr   M 4.5 - 14km E of Tomakomai, Japan\n",
              "139km WSW of Naze, Japan     4.7      mb     M 4.7 - 139km WSW of Naze, Japan\n",
              "53km ESE of Kamaishi, Japan  4.6      mb  M 4.6 - 53km ESE of Kamaishi, Japan"
            ]
          },
          "execution_count": 36,
          "metadata": {},
          "output_type": "execute_result"
        }
      ],
      "source": [
        "df.set_index('place').filter(like='Japan', axis=0).filter(items=['mag', 'magType', 'title']).head()"
      ]
    },
    {
      "cell_type": "markdown",
      "metadata": {
        "id": "JbDcgjvJ1yDq"
      },
      "source": [
        "This also works on `Series` objects and will run on the index:"
      ]
    },
    {
      "cell_type": "code",
      "execution_count": null,
      "metadata": {
        "id": "aNVSJ50h1yDq",
        "outputId": "59734118-8d40-4dc8-e795-8f9d08c8ffc5"
      },
      "outputs": [
        {
          "data": {
            "text/plain": [
              "place\n",
              "160km NNW of Nago, Japan          M 4.6 - 160km NNW of Nago, Japan\n",
              "7km ESE of Asahi, Japan            M 5.2 - 7km ESE of Asahi, Japan\n",
              "14km E of Tomakomai, Japan      M 4.5 - 14km E of Tomakomai, Japan\n",
              "139km WSW of Naze, Japan          M 4.7 - 139km WSW of Naze, Japan\n",
              "53km ESE of Kamaishi, Japan    M 4.6 - 53km ESE of Kamaishi, Japan\n",
              "Name: title, dtype: object"
            ]
          },
          "execution_count": 37,
          "metadata": {},
          "output_type": "execute_result"
        }
      ],
      "source": [
        "df.set_index('place').title.filter(like='Japan').head()"
      ]
    },
    {
      "cell_type": "markdown",
      "metadata": {
        "id": "urF1LfkN1yDr"
      },
      "source": [
        "<hr>\n",
        "<div>\n",
        "    <a href=\"./4-inspecting_dataframes.ipynb\">\n",
        "        <button style=\"float: left;\">&#8592; Previous Notebook</button>\n",
        "    </a>\n",
        "    <a href=\"./6-adding_and_removing_data.ipynb\">\n",
        "        <button style=\"float: right;\">Next Notebook &#8594;</button>\n",
        "    </a>\n",
        "</div>\n",
        "<br>\n",
        "<hr>"
      ]
    }
  ],
  "metadata": {
    "kernelspec": {
      "display_name": "Python 3",
      "language": "python",
      "name": "python3"
    },
    "language_info": {
      "codemirror_mode": {
        "name": "ipython",
        "version": 3
      },
      "file_extension": ".py",
      "mimetype": "text/x-python",
      "name": "python",
      "nbconvert_exporter": "python",
      "pygments_lexer": "ipython3",
      "version": "3.7.3"
    },
    "colab": {
      "provenance": [],
      "include_colab_link": true
    }
  },
  "nbformat": 4,
  "nbformat_minor": 0
}